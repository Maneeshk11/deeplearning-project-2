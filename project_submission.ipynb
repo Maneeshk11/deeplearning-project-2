{
 "cells": [
  {
   "cell_type": "markdown",
   "id": "a02285e6",
   "metadata": {
    "id": "a02285e6"
   },
   "source": [
    "# Starter Notebook"
   ]
  },
  {
   "cell_type": "markdown",
   "id": "bdcc5329",
   "metadata": {
    "id": "bdcc5329"
   },
   "source": [
    "Install and import required libraries"
   ]
  },
  {
   "cell_type": "code",
   "execution_count": 17,
   "id": "348ceed6-b684-46c3-8a32-9bb640c9a9d7",
   "metadata": {
    "id": "348ceed6-b684-46c3-8a32-9bb640c9a9d7",
    "tags": []
   },
   "outputs": [
    {
     "name": "stdout",
     "output_type": "stream",
     "text": [
      "Defaulting to user installation because normal site-packages is not writeable\n",
      "\u001b[33mWARNING: Ignoring invalid distribution -angchain (/apps/jupyter/6.5.4/lib/python3.10/site-packages)\u001b[0m\u001b[33m\n",
      "\u001b[0m\u001b[33mWARNING: Ignoring invalid distribution -entence-transformers (/apps/jupyter/6.5.4/lib/python3.10/site-packages)\u001b[0m\u001b[33m\n",
      "\u001b[0m\u001b[33mWARNING: Ignoring invalid distribution -idgetsnbextension (/apps/jupyter/6.5.4/lib/python3.10/site-packages)\u001b[0m\u001b[33m\n",
      "\u001b[0m\u001b[33mWARNING: Ignoring invalid distribution -nstructured (/apps/jupyter/6.5.4/lib/python3.10/site-packages)\u001b[0m\u001b[33m\n",
      "\u001b[0m\u001b[33mWARNING: Ignoring invalid distribution -okenizers (/apps/jupyter/6.5.4/lib/python3.10/site-packages)\u001b[0m\u001b[33m\n",
      "\u001b[0m\u001b[33mWARNING: Ignoring invalid distribution -sspec (/apps/jupyter/6.5.4/lib/python3.10/site-packages)\u001b[0m\u001b[33m\n",
      "\u001b[0m\u001b[33mWARNING: Ignoring invalid distribution -uggingface-hub (/apps/jupyter/6.5.4/lib/python3.10/site-packages)\u001b[0m\u001b[33m\n",
      "\u001b[0mRequirement already satisfied: transformers in ./.local/lib/python3.10/site-packages (4.51.3)\n",
      "Requirement already satisfied: datasets in ./.local/lib/python3.10/site-packages (3.5.0)\n",
      "Requirement already satisfied: evaluate in ./.local/lib/python3.10/site-packages (0.4.3)\n",
      "Requirement already satisfied: accelerate in ./.local/lib/python3.10/site-packages (1.6.0)\n",
      "Requirement already satisfied: peft in /apps/jupyter/6.5.4/lib/python3.10/site-packages (0.9.0)\n",
      "Requirement already satisfied: trl in ./.local/lib/python3.10/site-packages (0.16.1)\n",
      "Requirement already satisfied: bitsandbytes in /apps/jupyter/6.5.4/lib/python3.10/site-packages (0.42.0)\n",
      "Requirement already satisfied: filelock in /apps/jupyter/6.5.4/lib/python3.10/site-packages (from transformers) (3.9.0)\n",
      "Requirement already satisfied: huggingface-hub<1.0,>=0.30.0 in ./.local/lib/python3.10/site-packages (from transformers) (0.30.2)\n",
      "Requirement already satisfied: numpy>=1.17 in ./.local/lib/python3.10/site-packages (from transformers) (1.26.4)\n",
      "Requirement already satisfied: packaging>=20.0 in /apps/jupyter/6.5.4/lib/python3.10/site-packages (from transformers) (23.2)\n",
      "Requirement already satisfied: pyyaml>=5.1 in /apps/jupyter/6.5.4/lib/python3.10/site-packages (from transformers) (6.0.1)\n",
      "Requirement already satisfied: regex!=2019.12.17 in ./.local/lib/python3.10/site-packages (from transformers) (2021.11.10)\n",
      "Requirement already satisfied: requests in ./.local/lib/python3.10/site-packages (from transformers) (2.32.3)\n",
      "Requirement already satisfied: tokenizers<0.22,>=0.21 in ./.local/lib/python3.10/site-packages (from transformers) (0.21.1)\n",
      "Requirement already satisfied: safetensors>=0.4.3 in ./.local/lib/python3.10/site-packages (from transformers) (0.5.3)\n",
      "Requirement already satisfied: tqdm>=4.27 in ./.local/lib/python3.10/site-packages (from transformers) (4.67.1)\n",
      "Requirement already satisfied: pyarrow>=15.0.0 in ./.local/lib/python3.10/site-packages (from datasets) (19.0.1)\n",
      "Requirement already satisfied: dill<0.3.9,>=0.3.0 in ./.local/lib/python3.10/site-packages (from datasets) (0.3.8)\n",
      "Requirement already satisfied: pandas in ./.local/lib/python3.10/site-packages (from datasets) (2.2.3)\n",
      "Requirement already satisfied: xxhash in /apps/jupyter/6.5.4/lib/python3.10/site-packages (from datasets) (3.4.1)\n",
      "Requirement already satisfied: multiprocess<0.70.17 in /apps/jupyter/6.5.4/lib/python3.10/site-packages (from datasets) (0.70.15)\n",
      "Requirement already satisfied: fsspec<=2024.12.0,>=2023.1.0 in /apps/jupyter/6.5.4/lib/python3.10/site-packages (from fsspec[http]<=2024.12.0,>=2023.1.0->datasets) (2023.10.0)\n",
      "Requirement already satisfied: aiohttp in /apps/jupyter/6.5.4/lib/python3.10/site-packages (from datasets) (3.8.6)\n",
      "Requirement already satisfied: psutil in /apps/jupyter/6.5.4/lib/python3.10/site-packages (from accelerate) (5.9.5)\n",
      "Requirement already satisfied: torch>=2.0.0 in ./.local/lib/python3.10/site-packages (from accelerate) (2.4.1)\n",
      "Requirement already satisfied: rich in /apps/jupyter/6.5.4/lib/python3.10/site-packages (from trl) (13.7.1)\n",
      "Requirement already satisfied: scipy in /apps/jupyter/6.5.4/lib/python3.10/site-packages (from bitsandbytes) (1.12.0)\n",
      "Requirement already satisfied: attrs>=17.3.0 in /apps/jupyter/6.5.4/lib/python3.10/site-packages (from aiohttp->datasets) (23.1.0)\n",
      "Requirement already satisfied: charset-normalizer<4.0,>=2.0 in /apps/jupyter/6.5.4/lib/python3.10/site-packages (from aiohttp->datasets) (3.3.2)\n",
      "Requirement already satisfied: multidict<7.0,>=4.5 in /apps/jupyter/6.5.4/lib/python3.10/site-packages (from aiohttp->datasets) (6.0.4)\n",
      "Requirement already satisfied: async-timeout<5.0,>=4.0.0a3 in /apps/jupyter/6.5.4/lib/python3.10/site-packages (from aiohttp->datasets) (4.0.3)\n",
      "Requirement already satisfied: yarl<2.0,>=1.0 in /apps/jupyter/6.5.4/lib/python3.10/site-packages (from aiohttp->datasets) (1.9.2)\n",
      "Requirement already satisfied: frozenlist>=1.1.1 in /apps/jupyter/6.5.4/lib/python3.10/site-packages (from aiohttp->datasets) (1.4.0)\n",
      "Requirement already satisfied: aiosignal>=1.1.2 in /apps/jupyter/6.5.4/lib/python3.10/site-packages (from aiohttp->datasets) (1.3.1)\n",
      "Requirement already satisfied: typing-extensions>=3.7.4.3 in ./.local/lib/python3.10/site-packages (from huggingface-hub<1.0,>=0.30.0->transformers) (4.12.2)\n",
      "Requirement already satisfied: idna<4,>=2.5 in /apps/jupyter/6.5.4/lib/python3.10/site-packages (from requests->transformers) (3.4)\n",
      "Requirement already satisfied: urllib3<3,>=1.21.1 in /apps/jupyter/6.5.4/lib/python3.10/site-packages (from requests->transformers) (2.0.7)\n",
      "Requirement already satisfied: certifi>=2017.4.17 in /apps/jupyter/6.5.4/lib/python3.10/site-packages (from requests->transformers) (2024.2.2)\n",
      "Requirement already satisfied: sympy in /apps/jupyter/6.5.4/lib/python3.10/site-packages (from torch>=2.0.0->accelerate) (1.12)\n",
      "Requirement already satisfied: networkx in /apps/jupyter/6.5.4/lib/python3.10/site-packages (from torch>=2.0.0->accelerate) (3.0)\n",
      "Requirement already satisfied: jinja2 in ./.local/lib/python3.10/site-packages (from torch>=2.0.0->accelerate) (3.1.5)\n",
      "Requirement already satisfied: nvidia-cuda-nvrtc-cu12==12.1.105 in /apps/jupyter/6.5.4/lib/python3.10/site-packages (from torch>=2.0.0->accelerate) (12.1.105)\n",
      "Requirement already satisfied: nvidia-cuda-runtime-cu12==12.1.105 in /apps/jupyter/6.5.4/lib/python3.10/site-packages (from torch>=2.0.0->accelerate) (12.1.105)\n",
      "Requirement already satisfied: nvidia-cuda-cupti-cu12==12.1.105 in /apps/jupyter/6.5.4/lib/python3.10/site-packages (from torch>=2.0.0->accelerate) (12.1.105)\n",
      "Requirement already satisfied: nvidia-cudnn-cu12==9.1.0.70 in ./.local/lib/python3.10/site-packages (from torch>=2.0.0->accelerate) (9.1.0.70)\n",
      "Requirement already satisfied: nvidia-cublas-cu12==12.1.3.1 in /apps/jupyter/6.5.4/lib/python3.10/site-packages (from torch>=2.0.0->accelerate) (12.1.3.1)\n",
      "Requirement already satisfied: nvidia-cufft-cu12==11.0.2.54 in /apps/jupyter/6.5.4/lib/python3.10/site-packages (from torch>=2.0.0->accelerate) (11.0.2.54)\n",
      "Requirement already satisfied: nvidia-curand-cu12==10.3.2.106 in /apps/jupyter/6.5.4/lib/python3.10/site-packages (from torch>=2.0.0->accelerate) (10.3.2.106)\n",
      "Requirement already satisfied: nvidia-cusolver-cu12==11.4.5.107 in /apps/jupyter/6.5.4/lib/python3.10/site-packages (from torch>=2.0.0->accelerate) (11.4.5.107)\n",
      "Requirement already satisfied: nvidia-cusparse-cu12==12.1.0.106 in /apps/jupyter/6.5.4/lib/python3.10/site-packages (from torch>=2.0.0->accelerate) (12.1.0.106)\n",
      "Requirement already satisfied: nvidia-nccl-cu12==2.20.5 in /apps/jupyter/6.5.4/lib/python3.10/site-packages (from torch>=2.0.0->accelerate) (2.20.5)\n",
      "Requirement already satisfied: nvidia-nvtx-cu12==12.1.105 in /apps/jupyter/6.5.4/lib/python3.10/site-packages (from torch>=2.0.0->accelerate) (12.1.105)\n",
      "Requirement already satisfied: triton==3.0.0 in ./.local/lib/python3.10/site-packages (from torch>=2.0.0->accelerate) (3.0.0)\n",
      "Requirement already satisfied: nvidia-nvjitlink-cu12 in /apps/jupyter/6.5.4/lib/python3.10/site-packages (from nvidia-cusolver-cu12==11.4.5.107->torch>=2.0.0->accelerate) (12.3.101)\n",
      "Requirement already satisfied: python-dateutil>=2.8.2 in ./.local/lib/python3.10/site-packages (from pandas->datasets) (2.9.0.post0)\n",
      "Requirement already satisfied: pytz>=2020.1 in ./.local/lib/python3.10/site-packages (from pandas->datasets) (2025.2)\n",
      "Requirement already satisfied: tzdata>=2022.7 in ./.local/lib/python3.10/site-packages (from pandas->datasets) (2025.2)\n",
      "Requirement already satisfied: markdown-it-py>=2.2.0 in /apps/jupyter/6.5.4/lib/python3.10/site-packages (from rich->trl) (3.0.0)\n",
      "Requirement already satisfied: pygments<3.0.0,>=2.13.0 in /apps/jupyter/6.5.4/lib/python3.10/site-packages (from rich->trl) (2.15.1)\n",
      "Requirement already satisfied: mdurl~=0.1 in /apps/jupyter/6.5.4/lib/python3.10/site-packages (from markdown-it-py>=2.2.0->rich->trl) (0.1.2)\n",
      "Requirement already satisfied: six>=1.5 in ./.local/lib/python3.10/site-packages (from python-dateutil>=2.8.2->pandas->datasets) (1.17.0)\n",
      "Requirement already satisfied: MarkupSafe>=2.0 in /apps/jupyter/6.5.4/lib/python3.10/site-packages (from jinja2->torch>=2.0.0->accelerate) (2.1.3)\n",
      "Requirement already satisfied: mpmath>=0.19 in /apps/jupyter/6.5.4/lib/python3.10/site-packages (from sympy->torch>=2.0.0->accelerate) (1.3.0)\n",
      "\u001b[33mWARNING: Ignoring invalid distribution -angchain (/apps/jupyter/6.5.4/lib/python3.10/site-packages)\u001b[0m\u001b[33m\n",
      "\u001b[0m\u001b[33mWARNING: Ignoring invalid distribution -entence-transformers (/apps/jupyter/6.5.4/lib/python3.10/site-packages)\u001b[0m\u001b[33m\n",
      "\u001b[0m\u001b[33mWARNING: Ignoring invalid distribution -idgetsnbextension (/apps/jupyter/6.5.4/lib/python3.10/site-packages)\u001b[0m\u001b[33m\n",
      "\u001b[0m\u001b[33mWARNING: Ignoring invalid distribution -nstructured (/apps/jupyter/6.5.4/lib/python3.10/site-packages)\u001b[0m\u001b[33m\n",
      "\u001b[0m\u001b[33mWARNING: Ignoring invalid distribution -okenizers (/apps/jupyter/6.5.4/lib/python3.10/site-packages)\u001b[0m\u001b[33m\n",
      "\u001b[0m\u001b[33mWARNING: Ignoring invalid distribution -sspec (/apps/jupyter/6.5.4/lib/python3.10/site-packages)\u001b[0m\u001b[33m\n",
      "\u001b[0m\u001b[33mWARNING: Ignoring invalid distribution -uggingface-hub (/apps/jupyter/6.5.4/lib/python3.10/site-packages)\u001b[0m\u001b[33m\n",
      "\u001b[0m\n",
      "\u001b[1m[\u001b[0m\u001b[34;49mnotice\u001b[0m\u001b[1;39;49m]\u001b[0m\u001b[39;49m A new release of pip is available: \u001b[0m\u001b[31;49m24.1.1\u001b[0m\u001b[39;49m -> \u001b[0m\u001b[32;49m25.1\u001b[0m\n",
      "\u001b[1m[\u001b[0m\u001b[34;49mnotice\u001b[0m\u001b[1;39;49m]\u001b[0m\u001b[39;49m To update, run: \u001b[0m\u001b[32;49mpip install --upgrade pip\u001b[0m\n",
      "Defaulting to user installation because normal site-packages is not writeable\n",
      "\u001b[33mWARNING: Ignoring invalid distribution -angchain (/apps/jupyter/6.5.4/lib/python3.10/site-packages)\u001b[0m\u001b[33m\n",
      "\u001b[0m\u001b[33mWARNING: Ignoring invalid distribution -entence-transformers (/apps/jupyter/6.5.4/lib/python3.10/site-packages)\u001b[0m\u001b[33m\n",
      "\u001b[0m\u001b[33mWARNING: Ignoring invalid distribution -idgetsnbextension (/apps/jupyter/6.5.4/lib/python3.10/site-packages)\u001b[0m\u001b[33m\n",
      "\u001b[0m\u001b[33mWARNING: Ignoring invalid distribution -nstructured (/apps/jupyter/6.5.4/lib/python3.10/site-packages)\u001b[0m\u001b[33m\n",
      "\u001b[0m\u001b[33mWARNING: Ignoring invalid distribution -okenizers (/apps/jupyter/6.5.4/lib/python3.10/site-packages)\u001b[0m\u001b[33m\n",
      "\u001b[0m\u001b[33mWARNING: Ignoring invalid distribution -sspec (/apps/jupyter/6.5.4/lib/python3.10/site-packages)\u001b[0m\u001b[33m\n",
      "\u001b[0m\u001b[33mWARNING: Ignoring invalid distribution -uggingface-hub (/apps/jupyter/6.5.4/lib/python3.10/site-packages)\u001b[0m\u001b[33m\n",
      "\u001b[0mRequirement already satisfied: nvidia-ml-py3 in ./.local/lib/python3.10/site-packages (7.352.0)\n",
      "\u001b[33mWARNING: Ignoring invalid distribution -angchain (/apps/jupyter/6.5.4/lib/python3.10/site-packages)\u001b[0m\u001b[33m\n",
      "\u001b[0m\u001b[33mWARNING: Ignoring invalid distribution -entence-transformers (/apps/jupyter/6.5.4/lib/python3.10/site-packages)\u001b[0m\u001b[33m\n",
      "\u001b[0m\u001b[33mWARNING: Ignoring invalid distribution -idgetsnbextension (/apps/jupyter/6.5.4/lib/python3.10/site-packages)\u001b[0m\u001b[33m\n",
      "\u001b[0m\u001b[33mWARNING: Ignoring invalid distribution -nstructured (/apps/jupyter/6.5.4/lib/python3.10/site-packages)\u001b[0m\u001b[33m\n",
      "\u001b[0m\u001b[33mWARNING: Ignoring invalid distribution -okenizers (/apps/jupyter/6.5.4/lib/python3.10/site-packages)\u001b[0m\u001b[33m\n",
      "\u001b[0m\u001b[33mWARNING: Ignoring invalid distribution -sspec (/apps/jupyter/6.5.4/lib/python3.10/site-packages)\u001b[0m\u001b[33m\n",
      "\u001b[0m\u001b[33mWARNING: Ignoring invalid distribution -uggingface-hub (/apps/jupyter/6.5.4/lib/python3.10/site-packages)\u001b[0m\u001b[33m\n",
      "\u001b[0m\n",
      "\u001b[1m[\u001b[0m\u001b[34;49mnotice\u001b[0m\u001b[1;39;49m]\u001b[0m\u001b[39;49m A new release of pip is available: \u001b[0m\u001b[31;49m24.1.1\u001b[0m\u001b[39;49m -> \u001b[0m\u001b[32;49m25.1\u001b[0m\n",
      "\u001b[1m[\u001b[0m\u001b[34;49mnotice\u001b[0m\u001b[1;39;49m]\u001b[0m\u001b[39;49m To update, run: \u001b[0m\u001b[32;49mpip install --upgrade pip\u001b[0m\n"
     ]
    }
   ],
   "source": [
    "!pip install transformers datasets evaluate accelerate peft trl bitsandbytes\n",
    "!pip install nvidia-ml-py3"
   ]
  },
  {
   "cell_type": "code",
   "execution_count": 18,
   "id": "03e0a23d-02b9-45c3-ab59-ae8e7afb337b",
   "metadata": {
    "tags": []
   },
   "outputs": [
    {
     "name": "stdout",
     "output_type": "stream",
     "text": [
      "Defaulting to user installation because normal site-packages is not writeable\n",
      "\u001b[33mWARNING: Ignoring invalid distribution -angchain (/apps/jupyter/6.5.4/lib/python3.10/site-packages)\u001b[0m\u001b[33m\n",
      "\u001b[0m\u001b[33mWARNING: Ignoring invalid distribution -entence-transformers (/apps/jupyter/6.5.4/lib/python3.10/site-packages)\u001b[0m\u001b[33m\n",
      "\u001b[0m\u001b[33mWARNING: Ignoring invalid distribution -idgetsnbextension (/apps/jupyter/6.5.4/lib/python3.10/site-packages)\u001b[0m\u001b[33m\n",
      "\u001b[0m\u001b[33mWARNING: Ignoring invalid distribution -nstructured (/apps/jupyter/6.5.4/lib/python3.10/site-packages)\u001b[0m\u001b[33m\n",
      "\u001b[0m\u001b[33mWARNING: Ignoring invalid distribution -okenizers (/apps/jupyter/6.5.4/lib/python3.10/site-packages)\u001b[0m\u001b[33m\n",
      "\u001b[0m\u001b[33mWARNING: Ignoring invalid distribution -sspec (/apps/jupyter/6.5.4/lib/python3.10/site-packages)\u001b[0m\u001b[33m\n",
      "\u001b[0m\u001b[33mWARNING: Ignoring invalid distribution -uggingface-hub (/apps/jupyter/6.5.4/lib/python3.10/site-packages)\u001b[0m\u001b[33m\n",
      "\u001b[0mRequirement already satisfied: tf-keras in ./.local/lib/python3.10/site-packages (2.19.0)\n",
      "Requirement already satisfied: tensorflow<2.20,>=2.19 in ./.local/lib/python3.10/site-packages (from tf-keras) (2.19.0)\n",
      "Requirement already satisfied: absl-py>=1.0.0 in /apps/jupyter/6.5.4/lib/python3.10/site-packages (from tensorflow<2.20,>=2.19->tf-keras) (2.1.0)\n",
      "Requirement already satisfied: astunparse>=1.6.0 in /apps/jupyter/6.5.4/lib/python3.10/site-packages (from tensorflow<2.20,>=2.19->tf-keras) (1.6.3)\n",
      "Requirement already satisfied: flatbuffers>=24.3.25 in ./.local/lib/python3.10/site-packages (from tensorflow<2.20,>=2.19->tf-keras) (25.2.10)\n",
      "Requirement already satisfied: gast!=0.5.0,!=0.5.1,!=0.5.2,>=0.2.1 in /apps/jupyter/6.5.4/lib/python3.10/site-packages (from tensorflow<2.20,>=2.19->tf-keras) (0.5.4)\n",
      "Requirement already satisfied: google-pasta>=0.1.1 in /apps/jupyter/6.5.4/lib/python3.10/site-packages (from tensorflow<2.20,>=2.19->tf-keras) (0.2.0)\n",
      "Requirement already satisfied: libclang>=13.0.0 in /apps/jupyter/6.5.4/lib/python3.10/site-packages (from tensorflow<2.20,>=2.19->tf-keras) (18.1.1)\n",
      "Requirement already satisfied: opt-einsum>=2.3.2 in /apps/jupyter/6.5.4/lib/python3.10/site-packages (from tensorflow<2.20,>=2.19->tf-keras) (3.3.0)\n",
      "Requirement already satisfied: packaging in /apps/jupyter/6.5.4/lib/python3.10/site-packages (from tensorflow<2.20,>=2.19->tf-keras) (23.2)\n",
      "Requirement already satisfied: protobuf!=4.21.0,!=4.21.1,!=4.21.2,!=4.21.3,!=4.21.4,!=4.21.5,<6.0.0dev,>=3.20.3 in ./.local/lib/python3.10/site-packages (from tensorflow<2.20,>=2.19->tf-keras) (4.21.12)\n",
      "Requirement already satisfied: requests<3,>=2.21.0 in ./.local/lib/python3.10/site-packages (from tensorflow<2.20,>=2.19->tf-keras) (2.32.3)\n",
      "Requirement already satisfied: setuptools in /apps/jupyter/6.5.4/lib/python3.10/site-packages (from tensorflow<2.20,>=2.19->tf-keras) (68.0.0)\n",
      "Requirement already satisfied: six>=1.12.0 in ./.local/lib/python3.10/site-packages (from tensorflow<2.20,>=2.19->tf-keras) (1.17.0)\n",
      "Requirement already satisfied: termcolor>=1.1.0 in /apps/jupyter/6.5.4/lib/python3.10/site-packages (from tensorflow<2.20,>=2.19->tf-keras) (2.4.0)\n",
      "Requirement already satisfied: typing-extensions>=3.6.6 in ./.local/lib/python3.10/site-packages (from tensorflow<2.20,>=2.19->tf-keras) (4.12.2)\n",
      "Requirement already satisfied: wrapt>=1.11.0 in /apps/jupyter/6.5.4/lib/python3.10/site-packages (from tensorflow<2.20,>=2.19->tf-keras) (1.16.0)\n",
      "Requirement already satisfied: grpcio<2.0,>=1.24.3 in /apps/jupyter/6.5.4/lib/python3.10/site-packages (from tensorflow<2.20,>=2.19->tf-keras) (1.62.1)\n",
      "Requirement already satisfied: tensorboard~=2.19.0 in ./.local/lib/python3.10/site-packages (from tensorflow<2.20,>=2.19->tf-keras) (2.19.0)\n",
      "Requirement already satisfied: keras>=3.5.0 in ./.local/lib/python3.10/site-packages (from tensorflow<2.20,>=2.19->tf-keras) (3.9.2)\n",
      "Requirement already satisfied: numpy<2.2.0,>=1.26.0 in ./.local/lib/python3.10/site-packages (from tensorflow<2.20,>=2.19->tf-keras) (1.26.4)\n",
      "Requirement already satisfied: h5py>=3.11.0 in ./.local/lib/python3.10/site-packages (from tensorflow<2.20,>=2.19->tf-keras) (3.13.0)\n",
      "Requirement already satisfied: ml-dtypes<1.0.0,>=0.5.1 in ./.local/lib/python3.10/site-packages (from tensorflow<2.20,>=2.19->tf-keras) (0.5.1)\n",
      "Requirement already satisfied: tensorflow-io-gcs-filesystem>=0.23.1 in ./.local/lib/python3.10/site-packages (from tensorflow<2.20,>=2.19->tf-keras) (0.37.1)\n",
      "Requirement already satisfied: wheel<1.0,>=0.23.0 in /apps/jupyter/6.5.4/lib/python3.10/site-packages (from astunparse>=1.6.0->tensorflow<2.20,>=2.19->tf-keras) (0.40.0)\n",
      "Requirement already satisfied: rich in /apps/jupyter/6.5.4/lib/python3.10/site-packages (from keras>=3.5.0->tensorflow<2.20,>=2.19->tf-keras) (13.7.1)\n",
      "Requirement already satisfied: namex in /apps/jupyter/6.5.4/lib/python3.10/site-packages (from keras>=3.5.0->tensorflow<2.20,>=2.19->tf-keras) (0.0.7)\n",
      "Requirement already satisfied: optree in /apps/jupyter/6.5.4/lib/python3.10/site-packages (from keras>=3.5.0->tensorflow<2.20,>=2.19->tf-keras) (0.11.0)\n",
      "Requirement already satisfied: charset-normalizer<4,>=2 in /apps/jupyter/6.5.4/lib/python3.10/site-packages (from requests<3,>=2.21.0->tensorflow<2.20,>=2.19->tf-keras) (3.3.2)\n",
      "Requirement already satisfied: idna<4,>=2.5 in /apps/jupyter/6.5.4/lib/python3.10/site-packages (from requests<3,>=2.21.0->tensorflow<2.20,>=2.19->tf-keras) (3.4)\n",
      "Requirement already satisfied: urllib3<3,>=1.21.1 in /apps/jupyter/6.5.4/lib/python3.10/site-packages (from requests<3,>=2.21.0->tensorflow<2.20,>=2.19->tf-keras) (2.0.7)\n",
      "Requirement already satisfied: certifi>=2017.4.17 in /apps/jupyter/6.5.4/lib/python3.10/site-packages (from requests<3,>=2.21.0->tensorflow<2.20,>=2.19->tf-keras) (2024.2.2)\n",
      "Requirement already satisfied: markdown>=2.6.8 in /apps/jupyter/6.5.4/lib/python3.10/site-packages (from tensorboard~=2.19.0->tensorflow<2.20,>=2.19->tf-keras) (3.6)\n",
      "Requirement already satisfied: tensorboard-data-server<0.8.0,>=0.7.0 in ./.local/lib/python3.10/site-packages (from tensorboard~=2.19.0->tensorflow<2.20,>=2.19->tf-keras) (0.7.2)\n",
      "Requirement already satisfied: werkzeug>=1.0.1 in /apps/jupyter/6.5.4/lib/python3.10/site-packages (from tensorboard~=2.19.0->tensorflow<2.20,>=2.19->tf-keras) (3.0.1)\n",
      "Requirement already satisfied: MarkupSafe>=2.1.1 in /apps/jupyter/6.5.4/lib/python3.10/site-packages (from werkzeug>=1.0.1->tensorboard~=2.19.0->tensorflow<2.20,>=2.19->tf-keras) (2.1.3)\n",
      "Requirement already satisfied: markdown-it-py>=2.2.0 in /apps/jupyter/6.5.4/lib/python3.10/site-packages (from rich->keras>=3.5.0->tensorflow<2.20,>=2.19->tf-keras) (3.0.0)\n",
      "Requirement already satisfied: pygments<3.0.0,>=2.13.0 in /apps/jupyter/6.5.4/lib/python3.10/site-packages (from rich->keras>=3.5.0->tensorflow<2.20,>=2.19->tf-keras) (2.15.1)\n",
      "Requirement already satisfied: mdurl~=0.1 in /apps/jupyter/6.5.4/lib/python3.10/site-packages (from markdown-it-py>=2.2.0->rich->keras>=3.5.0->tensorflow<2.20,>=2.19->tf-keras) (0.1.2)\n",
      "\u001b[33mWARNING: Ignoring invalid distribution -angchain (/apps/jupyter/6.5.4/lib/python3.10/site-packages)\u001b[0m\u001b[33m\n",
      "\u001b[0m\u001b[33mWARNING: Ignoring invalid distribution -entence-transformers (/apps/jupyter/6.5.4/lib/python3.10/site-packages)\u001b[0m\u001b[33m\n",
      "\u001b[0m\u001b[33mWARNING: Ignoring invalid distribution -idgetsnbextension (/apps/jupyter/6.5.4/lib/python3.10/site-packages)\u001b[0m\u001b[33m\n",
      "\u001b[0m\u001b[33mWARNING: Ignoring invalid distribution -nstructured (/apps/jupyter/6.5.4/lib/python3.10/site-packages)\u001b[0m\u001b[33m\n",
      "\u001b[0m\u001b[33mWARNING: Ignoring invalid distribution -okenizers (/apps/jupyter/6.5.4/lib/python3.10/site-packages)\u001b[0m\u001b[33m\n",
      "\u001b[0m\u001b[33mWARNING: Ignoring invalid distribution -sspec (/apps/jupyter/6.5.4/lib/python3.10/site-packages)\u001b[0m\u001b[33m\n",
      "\u001b[0m\u001b[33mWARNING: Ignoring invalid distribution -uggingface-hub (/apps/jupyter/6.5.4/lib/python3.10/site-packages)\u001b[0m\u001b[33m\n",
      "\u001b[0m\n",
      "\u001b[1m[\u001b[0m\u001b[34;49mnotice\u001b[0m\u001b[1;39;49m]\u001b[0m\u001b[39;49m A new release of pip is available: \u001b[0m\u001b[31;49m24.1.1\u001b[0m\u001b[39;49m -> \u001b[0m\u001b[32;49m25.1\u001b[0m\n",
      "\u001b[1m[\u001b[0m\u001b[34;49mnotice\u001b[0m\u001b[1;39;49m]\u001b[0m\u001b[39;49m To update, run: \u001b[0m\u001b[32;49mpip install --upgrade pip\u001b[0m\n",
      "Note: you may need to restart the kernel to use updated packages.\n"
     ]
    }
   ],
   "source": [
    "pip install tf-keras"
   ]
  },
  {
   "cell_type": "code",
   "execution_count": 43,
   "id": "cca64f38-d8d2-4313-8295-fbbd43c2a263",
   "metadata": {
    "id": "cca64f38-d8d2-4313-8295-fbbd43c2a263",
    "tags": []
   },
   "outputs": [],
   "source": [
    "import os\n",
    "import pandas as pd\n",
    "import torch\n",
    "from transformers import RobertaModel, RobertaTokenizer, TrainingArguments, Trainer, DataCollatorWithPadding, RobertaForSequenceClassification\n",
    "from peft import LoraConfig, get_peft_model, PeftModel\n",
    "from datasets import load_dataset, Dataset, ClassLabel\n",
    "import pickle\n",
    "import transformers"
   ]
  },
  {
   "cell_type": "markdown",
   "id": "59d6e377",
   "metadata": {
    "id": "59d6e377"
   },
   "source": [
    "## Load Tokenizer and Preprocess Data"
   ]
  },
  {
   "cell_type": "code",
   "execution_count": 44,
   "id": "21f42747-f551-40a5-a95f-7affb1eba4a3",
   "metadata": {
    "id": "21f42747-f551-40a5-a95f-7affb1eba4a3",
    "tags": []
   },
   "outputs": [],
   "source": [
    "base_model = 'roberta-base'\n",
    "\n",
    "dataset = load_dataset('ag_news', split='train')\n",
    "tokenizer = RobertaTokenizer.from_pretrained(base_model)\n",
    "\n",
    "def preprocess(examples):\n",
    "    tokenized = tokenizer(examples['text'], truncation=True, padding=True)\n",
    "    return tokenized\n",
    "\n",
    "tokenized_dataset = dataset.map(preprocess, batched=True,  remove_columns=[\"text\"])\n",
    "tokenized_dataset = tokenized_dataset.rename_column(\"label\", \"labels\")"
   ]
  },
  {
   "cell_type": "code",
   "execution_count": 45,
   "id": "9e07f641-bec0-43a6-8c26-510d7642916a",
   "metadata": {
    "id": "9e07f641-bec0-43a6-8c26-510d7642916a",
    "tags": []
   },
   "outputs": [
    {
     "name": "stdout",
     "output_type": "stream",
     "text": [
      "number of labels: 4\n",
      "the labels: ['World', 'Sports', 'Business', 'Sci/Tech']\n"
     ]
    }
   ],
   "source": [
    "# Extract the number of classess and their names\n",
    "num_labels = dataset.features['label'].num_classes\n",
    "class_names = dataset.features[\"label\"].names\n",
    "print(f\"number of labels: {num_labels}\")\n",
    "print(f\"the labels: {class_names}\")\n",
    "\n",
    "# Create an id2label mapping\n",
    "# We will need this for our classifier.\n",
    "id2label = {i: label for i, label in enumerate(class_names)}\n",
    "\n",
    "data_collator = DataCollatorWithPadding(tokenizer=tokenizer, return_tensors=\"pt\")\n"
   ]
  },
  {
   "cell_type": "code",
   "execution_count": null,
   "id": "267a3865-cc9f-4885-b25f-8f6c4e1a2ce3",
   "metadata": {},
   "outputs": [],
   "source": []
  },
  {
   "cell_type": "markdown",
   "id": "c9e24afd",
   "metadata": {
    "id": "c9e24afd"
   },
   "source": [
    "## Load Pre-trained Model\n",
    "Set up config for pretrained model and download it from hugging face"
   ]
  },
  {
   "cell_type": "markdown",
   "id": "f265839d-a088-4693-8474-862641de11ed",
   "metadata": {
    "id": "f265839d-a088-4693-8474-862641de11ed"
   },
   "source": [
    "## PreTraining"
   ]
  },
  {
   "cell_type": "code",
   "execution_count": 46,
   "id": "e7413430-be57-482b-856e-36bd4ba799df",
   "metadata": {
    "id": "e7413430-be57-482b-856e-36bd4ba799df",
    "tags": []
   },
   "outputs": [
    {
     "name": "stdout",
     "output_type": "stream",
     "text": [
      "Train set size: 108000\n",
      "Validation set size: 12000\n",
      "Test set size: 7600\n",
      "{'labels': 0, 'input_ids': [0, 28324, 44170, 8, 39013, 11, 7090, 1083, 3171, 572, 43722, 1437, 163, 1723, 20606, 6, 798, 36, 1251, 43, 111, 20, 2429, 9, 55, 87, 21947, 1437, 408, 6, 1041, 8, 2948, 148, 5, 13629, 253, 7, 10, 1437, 4268, 12, 4509, 334, 19951, 314, 6254, 10, 284, 29929, 11, 5, 1437, 650, 1083, 1139, 9, 15191, 6847, 4, 2, 1, 1, 1, 1, 1, 1, 1, 1, 1, 1, 1, 1, 1, 1, 1, 1, 1, 1, 1, 1, 1, 1, 1, 1, 1, 1, 1, 1, 1, 1, 1, 1, 1, 1, 1, 1, 1, 1, 1, 1, 1, 1, 1, 1, 1, 1, 1, 1, 1, 1, 1, 1, 1, 1, 1, 1, 1, 1, 1, 1, 1, 1, 1, 1, 1, 1, 1, 1, 1, 1, 1, 1, 1, 1, 1, 1, 1, 1, 1, 1, 1, 1, 1, 1, 1, 1, 1, 1, 1, 1, 1, 1, 1, 1, 1, 1, 1, 1, 1, 1, 1, 1, 1, 1, 1, 1, 1, 1, 1, 1, 1, 1, 1, 1, 1, 1, 1, 1, 1, 1, 1, 1, 1, 1, 1, 1, 1, 1, 1, 1, 1, 1, 1, 1, 1, 1, 1, 1, 1, 1, 1, 1, 1, 1, 1, 1, 1, 1, 1, 1, 1, 1, 1, 1, 1, 1, 1, 1, 1, 1, 1, 1, 1, 1, 1, 1, 1, 1, 1, 1, 1, 1, 1, 1, 1, 1, 1, 1, 1, 1, 1, 1, 1], 'attention_mask': [1, 1, 1, 1, 1, 1, 1, 1, 1, 1, 1, 1, 1, 1, 1, 1, 1, 1, 1, 1, 1, 1, 1, 1, 1, 1, 1, 1, 1, 1, 1, 1, 1, 1, 1, 1, 1, 1, 1, 1, 1, 1, 1, 1, 1, 1, 1, 1, 1, 1, 1, 1, 1, 1, 1, 1, 1, 1, 1, 1, 1, 0, 0, 0, 0, 0, 0, 0, 0, 0, 0, 0, 0, 0, 0, 0, 0, 0, 0, 0, 0, 0, 0, 0, 0, 0, 0, 0, 0, 0, 0, 0, 0, 0, 0, 0, 0, 0, 0, 0, 0, 0, 0, 0, 0, 0, 0, 0, 0, 0, 0, 0, 0, 0, 0, 0, 0, 0, 0, 0, 0, 0, 0, 0, 0, 0, 0, 0, 0, 0, 0, 0, 0, 0, 0, 0, 0, 0, 0, 0, 0, 0, 0, 0, 0, 0, 0, 0, 0, 0, 0, 0, 0, 0, 0, 0, 0, 0, 0, 0, 0, 0, 0, 0, 0, 0, 0, 0, 0, 0, 0, 0, 0, 0, 0, 0, 0, 0, 0, 0, 0, 0, 0, 0, 0, 0, 0, 0, 0, 0, 0, 0, 0, 0, 0, 0, 0, 0, 0, 0, 0, 0, 0, 0, 0, 0, 0, 0, 0, 0, 0, 0, 0, 0, 0, 0, 0, 0, 0, 0, 0, 0, 0, 0, 0, 0, 0, 0, 0, 0, 0, 0, 0, 0, 0, 0, 0, 0, 0, 0, 0, 0, 0, 0]}\n"
     ]
    }
   ],
   "source": [
    "# Define the model checkpoint for the tokenizer and model backbone\n",
    "base_model = \"roberta-base\"\n",
    "\n",
    "# Load the AG News dataset from Hugging Face (train and test splits)\n",
    "raw_datasets = load_dataset(\"ag_news\")\n",
    "train_dataset = raw_datasets[\"train\"]\n",
    "test_dataset = raw_datasets[\"test\"]\n",
    "\n",
    "# For validation during training, we'll split a portion of the training set\n",
    "# (We do this since the official test labels might be hidden in a competition scenario)\n",
    "split = train_dataset.train_test_split(test_size=0.1, seed=42)  # 10% for validation\n",
    "train_dataset = split[\"train\"]\n",
    "val_dataset = split[\"test\"]  # this is our validation set\n",
    "\n",
    "print(f\"Train set size: {len(train_dataset)}\")\n",
    "print(f\"Validation set size: {len(val_dataset)}\")\n",
    "print(f\"Test set size: {len(test_dataset)}\")\n",
    "# Initialize the tokenizer from the RoBERTa base model\n",
    "\n",
    "tokenizer = RobertaTokenizer.from_pretrained(base_model)\n",
    "\n",
    "# Define a preprocessing function to tokenize texts\n",
    "def preprocess(batch):\n",
    "    return tokenizer(batch[\"text\"], truncation=True, padding=True)\n",
    "\n",
    "# Apply tokenization to all splits\n",
    "train_dataset = train_dataset.map(preprocess, batched=True, remove_columns=[\"text\"])\n",
    "val_dataset   = val_dataset.map(preprocess, batched=True, remove_columns=[\"text\"])\n",
    "test_dataset  = test_dataset.map(preprocess, batched=True, remove_columns=[\"text\"])\n",
    "\n",
    "# Rename label column to \"labels\" (required by Transformers for our model)\n",
    "train_dataset = train_dataset.rename_column(\"label\", \"labels\")\n",
    "val_dataset   = val_dataset.rename_column(\"label\", \"labels\")\n",
    "test_dataset  = test_dataset.rename_column(\"label\", \"labels\")\n",
    "\n",
    "# Verify a sample\n",
    "print(train_dataset[0])\n",
    "\n"
   ]
  },
  {
   "cell_type": "code",
   "execution_count": 47,
   "id": "995ba24c-9229-49b4-86bb-c34810c9c506",
   "metadata": {
    "tags": []
   },
   "outputs": [
    {
     "name": "stdout",
     "output_type": "stream",
     "text": [
      "Number of labels: 4\n",
      "Label names: ['World', 'Sports', 'Business', 'Sci/Tech']\n"
     ]
    }
   ],
   "source": [
    "# Determine number of labels and label names from the dataset\n",
    "num_labels = len(set(train_dataset[\"labels\"]))  # or train_dataset.features[\"labels\"].num_classes\n",
    "if isinstance(train_dataset.features[\"labels\"], ClassLabel):\n",
    "    # If dataset has ClassLabel, we can get names\n",
    "    label_names = train_dataset.features[\"labels\"].names\n",
    "else:\n",
    "    # Otherwise, define names manually (AG News: 4 categories)\n",
    "    label_names = [\"World\", \"Sports\", \"Business\", \"Sci/Tech\"]\n",
    "\n",
    "print(f\"Number of labels: {num_labels}\")\n",
    "print(f\"Label names: {label_names}\")\n",
    "\n",
    "# Create id2label and label2id mappings for the model config\n",
    "id2label = {i: name for i, name in enumerate(label_names)}\n",
    "label2id = {name: i for i, name in enumerate(label_names)}\n"
   ]
  },
  {
   "cell_type": "code",
   "execution_count": 48,
   "id": "1162bf5c-fa1a-4fbb-bc08-45f604c3a037",
   "metadata": {
    "tags": []
   },
   "outputs": [],
   "source": [
    "# Initialize data collator for dynamic padding\n",
    "data_collator = DataCollatorWithPadding(tokenizer=tokenizer, return_tensors=\"pt\")\n"
   ]
  },
  {
   "cell_type": "markdown",
   "id": "652452e3",
   "metadata": {
    "id": "652452e3"
   },
   "source": [
    "## Setup LoRA Config\n",
    "Setup PEFT config and get peft model for finetuning"
   ]
  },
  {
   "cell_type": "code",
   "execution_count": 49,
   "id": "bd0ca0ea-86b8-47f7-8cbf-83da25685876",
   "metadata": {
    "id": "bd0ca0ea-86b8-47f7-8cbf-83da25685876",
    "tags": []
   },
   "outputs": [
    {
     "name": "stdout",
     "output_type": "stream",
     "text": [
      "trainable params: 630,532 || all params: 125,279,240 || trainable%: 0.5033012652375605\n"
     ]
    }
   ],
   "source": [
    "# Load the pre-trained RoBERTa model for sequence classification\n",
    "model = RobertaForSequenceClassification.from_pretrained(\n",
    "    base_model, \n",
    "    num_labels=num_labels,\n",
    "    id2label=id2label,\n",
    "    label2id=label2id\n",
    ")\n",
    "\n",
    "# Define LoRA configuration\n",
    "lora_r = 2            # LoRA rank (can be adjusted, must keep total params < 1e6)\n",
    "lora_alpha = 4        # LoRA scaling factor (often set proportional to r, e.g. 2*r)\n",
    "lora_dropout = 0.05   # Dropout for LoRA layers\n",
    "target_modules = [\"query\"]  # Target only the query projection of attention layers\n",
    "\n",
    "peft_config = LoraConfig(\n",
    "    r=lora_r,\n",
    "    lora_alpha=lora_alpha,\n",
    "    lora_dropout=lora_dropout,\n",
    "    bias=\"none\",\n",
    "    target_modules=target_modules,\n",
    "    task_type=\"SEQ_CLS\"\n",
    ")\n",
    "\n",
    "# Wrap the base model with LoRA using the configuration\n",
    "peft_model = get_peft_model(model, peft_config)\n",
    "\n",
    "# Display the model to show LoRA layers added\n",
    "peft_model.print_trainable_parameters()\n"
   ]
  },
  {
   "cell_type": "code",
   "execution_count": 50,
   "id": "6ec2739d-76b6-4fde-91c2-0fc49e1884b0",
   "metadata": {
    "id": "6ec2739d-76b6-4fde-91c2-0fc49e1884b0",
    "tags": []
   },
   "outputs": [
    {
     "name": "stdout",
     "output_type": "stream",
     "text": [
      "Total parameters in model: 125,279,240\n",
      "Total trainable parameters: 630,532\n",
      "✅ Trainable parameter count is under 1 million.\n"
     ]
    }
   ],
   "source": [
    "# Function to count trainable parameters in the model\n",
    "def count_trainable_parameters(model):\n",
    "    return sum(p.numel() for p in model.parameters() if p.requires_grad)\n",
    "\n",
    "trainable_params = count_trainable_parameters(peft_model)\n",
    "total_params = sum(p.numel() for p in peft_model.parameters())\n",
    "print(f\"Total parameters in model: {total_params:,}\")\n",
    "print(f\"Total trainable parameters: {trainable_params:,}\")\n",
    "\n",
    "if trainable_params < 1_000_000:\n",
    "    print(\"✅ Trainable parameter count is under 1 million.\")\n",
    "else:\n",
    "    print(\"⚠️ Trainable parameter count exceeds 1 million!\")\n"
   ]
  },
  {
   "cell_type": "code",
   "execution_count": 44,
   "id": "cc3e7c7b-5b01-4db5-ac66-5507a95df68f",
   "metadata": {
    "tags": []
   },
   "outputs": [
    {
     "name": "stdout",
     "output_type": "stream",
     "text": [
      "Defaulting to user installation because normal site-packages is not writeable\n",
      "\u001b[33mWARNING: Ignoring invalid distribution -angchain (/apps/jupyter/6.5.4/lib/python3.10/site-packages)\u001b[0m\u001b[33m\n",
      "\u001b[0m\u001b[33mWARNING: Ignoring invalid distribution -entence-transformers (/apps/jupyter/6.5.4/lib/python3.10/site-packages)\u001b[0m\u001b[33m\n",
      "\u001b[0m\u001b[33mWARNING: Ignoring invalid distribution -idgetsnbextension (/apps/jupyter/6.5.4/lib/python3.10/site-packages)\u001b[0m\u001b[33m\n",
      "\u001b[0m\u001b[33mWARNING: Ignoring invalid distribution -nstructured (/apps/jupyter/6.5.4/lib/python3.10/site-packages)\u001b[0m\u001b[33m\n",
      "\u001b[0m\u001b[33mWARNING: Ignoring invalid distribution -okenizers (/apps/jupyter/6.5.4/lib/python3.10/site-packages)\u001b[0m\u001b[33m\n",
      "\u001b[0m\u001b[33mWARNING: Ignoring invalid distribution -sspec (/apps/jupyter/6.5.4/lib/python3.10/site-packages)\u001b[0m\u001b[33m\n",
      "\u001b[0m\u001b[33mWARNING: Ignoring invalid distribution -uggingface-hub (/apps/jupyter/6.5.4/lib/python3.10/site-packages)\u001b[0m\u001b[33m\n",
      "\u001b[0mRequirement already satisfied: transformers in ./.local/lib/python3.10/site-packages (4.51.3)\n",
      "Requirement already satisfied: filelock in /apps/jupyter/6.5.4/lib/python3.10/site-packages (from transformers) (3.9.0)\n",
      "Requirement already satisfied: huggingface-hub<1.0,>=0.30.0 in ./.local/lib/python3.10/site-packages (from transformers) (0.30.2)\n",
      "Requirement already satisfied: numpy>=1.17 in ./.local/lib/python3.10/site-packages (from transformers) (1.26.4)\n",
      "Requirement already satisfied: packaging>=20.0 in /apps/jupyter/6.5.4/lib/python3.10/site-packages (from transformers) (23.2)\n",
      "Requirement already satisfied: pyyaml>=5.1 in /apps/jupyter/6.5.4/lib/python3.10/site-packages (from transformers) (6.0.1)\n",
      "Requirement already satisfied: regex!=2019.12.17 in ./.local/lib/python3.10/site-packages (from transformers) (2021.11.10)\n",
      "Requirement already satisfied: requests in ./.local/lib/python3.10/site-packages (from transformers) (2.32.3)\n",
      "Requirement already satisfied: tokenizers<0.22,>=0.21 in ./.local/lib/python3.10/site-packages (from transformers) (0.21.1)\n",
      "Requirement already satisfied: safetensors>=0.4.3 in ./.local/lib/python3.10/site-packages (from transformers) (0.5.3)\n",
      "Requirement already satisfied: tqdm>=4.27 in ./.local/lib/python3.10/site-packages (from transformers) (4.67.1)\n",
      "Requirement already satisfied: fsspec>=2023.5.0 in /apps/jupyter/6.5.4/lib/python3.10/site-packages (from huggingface-hub<1.0,>=0.30.0->transformers) (2023.10.0)\n",
      "Requirement already satisfied: typing-extensions>=3.7.4.3 in ./.local/lib/python3.10/site-packages (from huggingface-hub<1.0,>=0.30.0->transformers) (4.12.2)\n",
      "Requirement already satisfied: charset-normalizer<4,>=2 in /apps/jupyter/6.5.4/lib/python3.10/site-packages (from requests->transformers) (3.3.2)\n",
      "Requirement already satisfied: idna<4,>=2.5 in /apps/jupyter/6.5.4/lib/python3.10/site-packages (from requests->transformers) (3.4)\n",
      "Requirement already satisfied: urllib3<3,>=1.21.1 in /apps/jupyter/6.5.4/lib/python3.10/site-packages (from requests->transformers) (2.0.7)\n",
      "Requirement already satisfied: certifi>=2017.4.17 in /apps/jupyter/6.5.4/lib/python3.10/site-packages (from requests->transformers) (2024.2.2)\n",
      "\u001b[33mWARNING: Ignoring invalid distribution -angchain (/apps/jupyter/6.5.4/lib/python3.10/site-packages)\u001b[0m\u001b[33m\n",
      "\u001b[0m\u001b[33mWARNING: Ignoring invalid distribution -entence-transformers (/apps/jupyter/6.5.4/lib/python3.10/site-packages)\u001b[0m\u001b[33m\n",
      "\u001b[0m\u001b[33mWARNING: Ignoring invalid distribution -idgetsnbextension (/apps/jupyter/6.5.4/lib/python3.10/site-packages)\u001b[0m\u001b[33m\n",
      "\u001b[0m\u001b[33mWARNING: Ignoring invalid distribution -nstructured (/apps/jupyter/6.5.4/lib/python3.10/site-packages)\u001b[0m\u001b[33m\n",
      "\u001b[0m\u001b[33mWARNING: Ignoring invalid distribution -okenizers (/apps/jupyter/6.5.4/lib/python3.10/site-packages)\u001b[0m\u001b[33m\n",
      "\u001b[0m\u001b[33mWARNING: Ignoring invalid distribution -sspec (/apps/jupyter/6.5.4/lib/python3.10/site-packages)\u001b[0m\u001b[33m\n",
      "\u001b[0m\u001b[33mWARNING: Ignoring invalid distribution -uggingface-hub (/apps/jupyter/6.5.4/lib/python3.10/site-packages)\u001b[0m\u001b[33m\n",
      "\u001b[0m\n",
      "\u001b[1m[\u001b[0m\u001b[34;49mnotice\u001b[0m\u001b[1;39;49m]\u001b[0m\u001b[39;49m A new release of pip is available: \u001b[0m\u001b[31;49m24.1.1\u001b[0m\u001b[39;49m -> \u001b[0m\u001b[32;49m25.0.1\u001b[0m\n",
      "\u001b[1m[\u001b[0m\u001b[34;49mnotice\u001b[0m\u001b[1;39;49m]\u001b[0m\u001b[39;49m To update, run: \u001b[0m\u001b[32;49mpip install --upgrade pip\u001b[0m\n",
      "Note: you may need to restart the kernel to use updated packages.\n"
     ]
    }
   ],
   "source": [
    "pip install --upgrade transformers\n"
   ]
  },
  {
   "cell_type": "code",
   "execution_count": 51,
   "id": "a769f54e-05ad-4e3c-aae8-d00d1d9dfb2f",
   "metadata": {
    "id": "a769f54e-05ad-4e3c-aae8-d00d1d9dfb2f",
    "tags": []
   },
   "outputs": [
    {
     "name": "stderr",
     "output_type": "stream",
     "text": [
      "Detected kernel version 4.18.0, which is below the recommended minimum of 5.5.0; this can cause the process to hang. It is recommended to upgrade the kernel to the minimum version or higher.\n"
     ]
    }
   ],
   "source": [
    "from transformers import TrainingArguments\n",
    "\n",
    "def compute_metrics(eval_pred):\n",
    "    labels = eval_pred.label_ids\n",
    "    preds = eval_pred.predictions.argmax(axis=-1)\n",
    "    accuracy = accuracy_score(labels, preds)\n",
    "    return {\"accuracy\": accuracy}\n",
    "    \n",
    "training_args = TrainingArguments(\n",
    "    output_dir=\"results\",\n",
    "    learning_rate=5e-6,\n",
    "    per_device_train_batch_size=16,\n",
    "    per_device_eval_batch_size=64,\n",
    "    num_train_epochs=3,\n",
    "\n",
    "    logging_strategy=\"steps\",    # so logging_steps is honored\n",
    "    logging_steps=100,\n",
    "\n",
    "    eval_strategy=\"steps\",       # <-- correct parameter name\n",
    "    eval_steps=250,              # run evaluation every 100 steps\n",
    "\n",
    "    save_strategy=\"no\",\n",
    "    warmup_ratio=0.1,\n",
    "    lr_scheduler_type=\"linear\",\n",
    "    log_level=\"error\",\n",
    "    report_to=\"none\",\n",
    ")\n",
    "trainer = Trainer(\n",
    "    model=peft_model,\n",
    "    args=training_args,\n",
    "    train_dataset=train_dataset,\n",
    "    eval_dataset=val_dataset,\n",
    "    data_collator=data_collator,\n",
    "    compute_metrics=compute_metrics,\n",
    ")\n",
    "\n"
   ]
  },
  {
   "cell_type": "markdown",
   "id": "b1c27984-3701-4137-b188-d70b6d4d964f",
   "metadata": {},
   "source": [
    "## Training Setup"
   ]
  },
  {
   "cell_type": "code",
   "execution_count": null,
   "id": "da45f85c-b016-4c49-8808-6eafa7cb5d1b",
   "metadata": {
    "id": "da45f85c-b016-4c49-8808-6eafa7cb5d1b",
    "tags": []
   },
   "outputs": [],
   "source": [
    "# Train the model (this may take some time depending on hardware)\n",
    "train_result = trainer.train()\n",
    "\n",
    "# The train_result contains training metrics like total steps and time\n",
    "print(\"Training complete.\")\n"
   ]
  },
  {
   "cell_type": "code",
   "execution_count": 52,
   "id": "b7ee40f4-0e9f-4bde-8585-e91dde42d351",
   "metadata": {
    "tags": []
   },
   "outputs": [
    {
     "name": "stdout",
     "output_type": "stream",
     "text": [
      "{'loss': 1.3917, 'grad_norm': 1.287584900856018, 'learning_rate': 2.444444444444445e-07, 'epoch': 0.014814814814814815}\n",
      "{'loss': 1.3889, 'grad_norm': 2.664663076400757, 'learning_rate': 4.913580246913581e-07, 'epoch': 0.02962962962962963}\n",
      "{'eval_loss': 1.3890933990478516, 'eval_accuracy': 0.25283333333333335, 'eval_runtime': 32.9655, 'eval_samples_per_second': 364.016, 'eval_steps_per_second': 5.703, 'epoch': 0.037037037037037035}\n",
      "{'loss': 1.391, 'grad_norm': 1.9471830129623413, 'learning_rate': 7.382716049382717e-07, 'epoch': 0.044444444444444446}\n",
      "{'loss': 1.3878, 'grad_norm': 2.620558738708496, 'learning_rate': 9.851851851851852e-07, 'epoch': 0.05925925925925926}\n",
      "{'loss': 1.3908, 'grad_norm': 2.942913770675659, 'learning_rate': 1.232098765432099e-06, 'epoch': 0.07407407407407407}\n",
      "{'eval_loss': 1.387314796447754, 'eval_accuracy': 0.25283333333333335, 'eval_runtime': 32.9327, 'eval_samples_per_second': 364.379, 'eval_steps_per_second': 5.709, 'epoch': 0.07407407407407407}\n",
      "{'loss': 1.3901, 'grad_norm': 2.977536916732788, 'learning_rate': 1.4790123456790127e-06, 'epoch': 0.08888888888888889}\n",
      "{'loss': 1.3876, 'grad_norm': 2.1757919788360596, 'learning_rate': 1.7259259259259262e-06, 'epoch': 0.1037037037037037}\n",
      "{'eval_loss': 1.3838484287261963, 'eval_accuracy': 0.25283333333333335, 'eval_runtime': 32.9467, 'eval_samples_per_second': 364.225, 'eval_steps_per_second': 5.706, 'epoch': 0.1111111111111111}\n",
      "{'loss': 1.3845, 'grad_norm': 2.0039467811584473, 'learning_rate': 1.97283950617284e-06, 'epoch': 0.11851851851851852}\n",
      "{'loss': 1.379, 'grad_norm': 3.937127113342285, 'learning_rate': 2.2197530864197533e-06, 'epoch': 0.13333333333333333}\n",
      "{'loss': 1.3788, 'grad_norm': 3.0561845302581787, 'learning_rate': 2.466666666666667e-06, 'epoch': 0.14814814814814814}\n",
      "{'eval_loss': 1.3799028396606445, 'eval_accuracy': 0.25908333333333333, 'eval_runtime': 32.9375, 'eval_samples_per_second': 364.326, 'eval_steps_per_second': 5.708, 'epoch': 0.14814814814814814}\n",
      "{'loss': 1.3793, 'grad_norm': 2.5879039764404297, 'learning_rate': 2.7135802469135804e-06, 'epoch': 0.16296296296296298}\n",
      "{'loss': 1.376, 'grad_norm': 2.5274949073791504, 'learning_rate': 2.9604938271604937e-06, 'epoch': 0.17777777777777778}\n",
      "{'eval_loss': 1.374382495880127, 'eval_accuracy': 0.362, 'eval_runtime': 32.9604, 'eval_samples_per_second': 364.074, 'eval_steps_per_second': 5.704, 'epoch': 0.18518518518518517}\n",
      "{'loss': 1.374, 'grad_norm': 2.8720176219940186, 'learning_rate': 3.2074074074074075e-06, 'epoch': 0.1925925925925926}\n",
      "{'loss': 1.3735, 'grad_norm': 1.7219489812850952, 'learning_rate': 3.454320987654321e-06, 'epoch': 0.2074074074074074}\n",
      "{'loss': 1.3703, 'grad_norm': 1.8654433488845825, 'learning_rate': 3.701234567901235e-06, 'epoch': 0.2222222222222222}\n",
      "{'eval_loss': 1.3676941394805908, 'eval_accuracy': 0.456, 'eval_runtime': 32.9309, 'eval_samples_per_second': 364.4, 'eval_steps_per_second': 5.709, 'epoch': 0.2222222222222222}\n",
      "{'loss': 1.3664, 'grad_norm': 2.3105130195617676, 'learning_rate': 3.948148148148149e-06, 'epoch': 0.23703703703703705}\n",
      "{'loss': 1.3598, 'grad_norm': 1.4844218492507935, 'learning_rate': 4.195061728395062e-06, 'epoch': 0.2518518518518518}\n",
      "{'eval_loss': 1.358840823173523, 'eval_accuracy': 0.6058333333333333, 'eval_runtime': 32.9415, 'eval_samples_per_second': 364.282, 'eval_steps_per_second': 5.707, 'epoch': 0.25925925925925924}\n",
      "{'loss': 1.3587, 'grad_norm': 1.2927777767181396, 'learning_rate': 4.441975308641976e-06, 'epoch': 0.26666666666666666}\n",
      "{'loss': 1.3555, 'grad_norm': 1.3339159488677979, 'learning_rate': 4.6888888888888895e-06, 'epoch': 0.2814814814814815}\n",
      "{'loss': 1.3497, 'grad_norm': 1.5414605140686035, 'learning_rate': 4.935802469135803e-06, 'epoch': 0.2962962962962963}\n",
      "{'eval_loss': 1.347126841545105, 'eval_accuracy': 0.7143333333333334, 'eval_runtime': 32.9411, 'eval_samples_per_second': 364.286, 'eval_steps_per_second': 5.707, 'epoch': 0.2962962962962963}\n",
      "{'loss': 1.3442, 'grad_norm': 2.131157875061035, 'learning_rate': 4.9796982167352545e-06, 'epoch': 0.3111111111111111}\n",
      "{'loss': 1.3387, 'grad_norm': 1.8952385187149048, 'learning_rate': 4.952263374485597e-06, 'epoch': 0.32592592592592595}\n",
      "{'eval_loss': 1.3324968814849854, 'eval_accuracy': 0.7983333333333333, 'eval_runtime': 32.9555, 'eval_samples_per_second': 364.128, 'eval_steps_per_second': 5.705, 'epoch': 0.3333333333333333}\n",
      "{'loss': 1.3341, 'grad_norm': 1.8562475442886353, 'learning_rate': 4.92482853223594e-06, 'epoch': 0.34074074074074073}\n",
      "{'loss': 1.3248, 'grad_norm': 3.2854843139648438, 'learning_rate': 4.897393689986283e-06, 'epoch': 0.35555555555555557}\n",
      "{'loss': 1.3161, 'grad_norm': 2.6053829193115234, 'learning_rate': 4.869958847736626e-06, 'epoch': 0.37037037037037035}\n",
      "{'eval_loss': 1.3140760660171509, 'eval_accuracy': 0.8096666666666666, 'eval_runtime': 32.9338, 'eval_samples_per_second': 364.367, 'eval_steps_per_second': 5.708, 'epoch': 0.37037037037037035}\n",
      "{'loss': 1.3072, 'grad_norm': 1.391654133796692, 'learning_rate': 4.842524005486969e-06, 'epoch': 0.3851851851851852}\n",
      "{'loss': 1.3012, 'grad_norm': 4.89017391204834, 'learning_rate': 4.815089163237312e-06, 'epoch': 0.4}\n",
      "{'eval_loss': 1.2917547225952148, 'eval_accuracy': 0.8239166666666666, 'eval_runtime': 32.9238, 'eval_samples_per_second': 364.478, 'eval_steps_per_second': 5.71, 'epoch': 0.4074074074074074}\n",
      "{'loss': 1.2895, 'grad_norm': 3.6619606018066406, 'learning_rate': 4.787654320987655e-06, 'epoch': 0.4148148148148148}\n",
      "{'loss': 1.276, 'grad_norm': 2.441033363342285, 'learning_rate': 4.760219478737997e-06, 'epoch': 0.42962962962962964}\n",
      "{'loss': 1.2659, 'grad_norm': 1.1816833019256592, 'learning_rate': 4.73278463648834e-06, 'epoch': 0.4444444444444444}\n",
      "{'eval_loss': 1.2640589475631714, 'eval_accuracy': 0.8433333333333334, 'eval_runtime': 32.9325, 'eval_samples_per_second': 364.382, 'eval_steps_per_second': 5.709, 'epoch': 0.4444444444444444}\n",
      "{'loss': 1.2542, 'grad_norm': 1.8092193603515625, 'learning_rate': 4.705349794238683e-06, 'epoch': 0.45925925925925926}\n",
      "{'loss': 1.2381, 'grad_norm': 1.4850314855575562, 'learning_rate': 4.6779149519890264e-06, 'epoch': 0.4740740740740741}\n",
      "{'eval_loss': 1.2307316064834595, 'eval_accuracy': 0.84875, 'eval_runtime': 32.9303, 'eval_samples_per_second': 364.406, 'eval_steps_per_second': 5.709, 'epoch': 0.48148148148148145}\n",
      "{'loss': 1.2276, 'grad_norm': 1.892163634300232, 'learning_rate': 4.6504801097393695e-06, 'epoch': 0.4888888888888889}\n",
      "{'loss': 1.2097, 'grad_norm': 2.52551531791687, 'learning_rate': 4.6230452674897125e-06, 'epoch': 0.5037037037037037}\n",
      "{'loss': 1.1932, 'grad_norm': 3.8699724674224854, 'learning_rate': 4.595610425240056e-06, 'epoch': 0.5185185185185185}\n",
      "{'eval_loss': 1.190260887145996, 'eval_accuracy': 0.864, 'eval_runtime': 32.932, 'eval_samples_per_second': 364.387, 'eval_steps_per_second': 5.709, 'epoch': 0.5185185185185185}\n",
      "{'loss': 1.1774, 'grad_norm': 1.4247053861618042, 'learning_rate': 4.568175582990399e-06, 'epoch': 0.5333333333333333}\n",
      "{'loss': 1.1675, 'grad_norm': 1.254233479499817, 'learning_rate': 4.540740740740741e-06, 'epoch': 0.5481481481481482}\n",
      "{'eval_loss': 1.1437042951583862, 'eval_accuracy': 0.8648333333333333, 'eval_runtime': 32.9537, 'eval_samples_per_second': 364.148, 'eval_steps_per_second': 5.705, 'epoch': 0.5555555555555556}\n",
      "{'loss': 1.1317, 'grad_norm': 3.292689800262451, 'learning_rate': 4.513305898491084e-06, 'epoch': 0.562962962962963}\n",
      "{'loss': 1.1153, 'grad_norm': 1.839896321296692, 'learning_rate': 4.485871056241427e-06, 'epoch': 0.5777777777777777}\n",
      "{'loss': 1.1052, 'grad_norm': 2.846954107284546, 'learning_rate': 4.45843621399177e-06, 'epoch': 0.5925925925925926}\n",
      "{'eval_loss': 1.091112494468689, 'eval_accuracy': 0.86875, 'eval_runtime': 32.9437, 'eval_samples_per_second': 364.258, 'eval_steps_per_second': 5.707, 'epoch': 0.5925925925925926}\n",
      "{'loss': 1.0734, 'grad_norm': 2.849802017211914, 'learning_rate': 4.431001371742113e-06, 'epoch': 0.6074074074074074}\n",
      "{'loss': 1.0499, 'grad_norm': 1.7287633419036865, 'learning_rate': 4.403566529492455e-06, 'epoch': 0.6222222222222222}\n",
      "{'eval_loss': 1.029473066329956, 'eval_accuracy': 0.8665833333333334, 'eval_runtime': 32.9607, 'eval_samples_per_second': 364.07, 'eval_steps_per_second': 5.704, 'epoch': 0.6296296296296297}\n",
      "{'loss': 1.0214, 'grad_norm': 2.3617966175079346, 'learning_rate': 4.376131687242799e-06, 'epoch': 0.6370370370370371}\n",
      "{'loss': 1.0025, 'grad_norm': 1.6721014976501465, 'learning_rate': 4.3486968449931414e-06, 'epoch': 0.6518518518518519}\n",
      "{'loss': 0.9792, 'grad_norm': 1.9915229082107544, 'learning_rate': 4.3212620027434845e-06, 'epoch': 0.6666666666666666}\n",
      "{'eval_loss': 0.9610238671302795, 'eval_accuracy': 0.8723333333333333, 'eval_runtime': 32.9394, 'eval_samples_per_second': 364.305, 'eval_steps_per_second': 5.707, 'epoch': 0.6666666666666666}\n",
      "{'loss': 0.9498, 'grad_norm': 1.8604824542999268, 'learning_rate': 4.2938271604938275e-06, 'epoch': 0.6814814814814815}\n",
      "{'loss': 0.9168, 'grad_norm': 1.529834270477295, 'learning_rate': 4.266392318244171e-06, 'epoch': 0.6962962962962963}\n",
      "{'eval_loss': 0.8864549398422241, 'eval_accuracy': 0.8706666666666667, 'eval_runtime': 32.9366, 'eval_samples_per_second': 364.336, 'eval_steps_per_second': 5.708, 'epoch': 0.7037037037037037}\n",
      "{'loss': 0.8887, 'grad_norm': 2.4162538051605225, 'learning_rate': 4.238957475994514e-06, 'epoch': 0.7111111111111111}\n",
      "{'loss': 0.8603, 'grad_norm': 1.5582648515701294, 'learning_rate': 4.211522633744856e-06, 'epoch': 0.725925925925926}\n",
      "{'loss': 0.8453, 'grad_norm': 1.418112874031067, 'learning_rate': 4.1840877914952e-06, 'epoch': 0.7407407407407407}\n",
      "{'eval_loss': 0.8113120198249817, 'eval_accuracy': 0.8776666666666667, 'eval_runtime': 32.9565, 'eval_samples_per_second': 364.116, 'eval_steps_per_second': 5.704, 'epoch': 0.7407407407407407}\n",
      "{'loss': 0.8318, 'grad_norm': 2.5765068531036377, 'learning_rate': 4.156652949245542e-06, 'epoch': 0.7555555555555555}\n",
      "{'loss': 0.7849, 'grad_norm': 1.8505690097808838, 'learning_rate': 4.129218106995885e-06, 'epoch': 0.7703703703703704}\n",
      "{'eval_loss': 0.7387633323669434, 'eval_accuracy': 0.87775, 'eval_runtime': 32.9349, 'eval_samples_per_second': 364.355, 'eval_steps_per_second': 5.708, 'epoch': 0.7777777777777778}\n",
      "{'loss': 0.7516, 'grad_norm': 1.6155993938446045, 'learning_rate': 4.101783264746228e-06, 'epoch': 0.7851851851851852}\n",
      "{'loss': 0.7233, 'grad_norm': 2.836846351623535, 'learning_rate': 4.074348422496571e-06, 'epoch': 0.8}\n",
      "{'loss': 0.7009, 'grad_norm': 1.7829433679580688, 'learning_rate': 4.046913580246914e-06, 'epoch': 0.8148148148148148}\n",
      "{'eval_loss': 0.6683669686317444, 'eval_accuracy': 0.8804166666666666, 'eval_runtime': 32.9366, 'eval_samples_per_second': 364.336, 'eval_steps_per_second': 5.708, 'epoch': 0.8148148148148148}\n",
      "{'loss': 0.6793, 'grad_norm': 2.0941665172576904, 'learning_rate': 4.0194787379972564e-06, 'epoch': 0.8296296296296296}\n",
      "{'loss': 0.6384, 'grad_norm': 1.4439646005630493, 'learning_rate': 3.9920438957475995e-06, 'epoch': 0.8444444444444444}\n",
      "{'eval_loss': 0.6056144833564758, 'eval_accuracy': 0.8813333333333333, 'eval_runtime': 32.9204, 'eval_samples_per_second': 364.515, 'eval_steps_per_second': 5.711, 'epoch': 0.8518518518518519}\n",
      "{'loss': 0.6275, 'grad_norm': 1.775501012802124, 'learning_rate': 3.9646090534979425e-06, 'epoch': 0.8592592592592593}\n",
      "{'loss': 0.6141, 'grad_norm': 1.630821943283081, 'learning_rate': 3.937174211248286e-06, 'epoch': 0.8740740740740741}\n",
      "{'loss': 0.6076, 'grad_norm': 1.6209776401519775, 'learning_rate': 3.909739368998629e-06, 'epoch': 0.8888888888888888}\n",
      "{'eval_loss': 0.5530824065208435, 'eval_accuracy': 0.8830833333333333, 'eval_runtime': 32.9493, 'eval_samples_per_second': 364.196, 'eval_steps_per_second': 5.706, 'epoch': 0.8888888888888888}\n",
      "{'loss': 0.5779, 'grad_norm': 1.9378784894943237, 'learning_rate': 3.882304526748972e-06, 'epoch': 0.9037037037037037}\n",
      "{'loss': 0.5725, 'grad_norm': 1.5594342947006226, 'learning_rate': 3.854869684499315e-06, 'epoch': 0.9185185185185185}\n",
      "{'eval_loss': 0.508235514163971, 'eval_accuracy': 0.8849166666666667, 'eval_runtime': 32.9629, 'eval_samples_per_second': 364.046, 'eval_steps_per_second': 5.703, 'epoch': 0.9259259259259259}\n",
      "{'loss': 0.5313, 'grad_norm': 1.6911941766738892, 'learning_rate': 3.827434842249657e-06, 'epoch': 0.9333333333333333}\n",
      "{'loss': 0.5359, 'grad_norm': 1.6727142333984375, 'learning_rate': 3.8000000000000005e-06, 'epoch': 0.9481481481481482}\n",
      "{'loss': 0.5091, 'grad_norm': 2.1647634506225586, 'learning_rate': 3.772565157750343e-06, 'epoch': 0.9629629629629629}\n",
      "{'eval_loss': 0.4717676639556885, 'eval_accuracy': 0.88575, 'eval_runtime': 32.9447, 'eval_samples_per_second': 364.247, 'eval_steps_per_second': 5.707, 'epoch': 0.9629629629629629}\n",
      "{'loss': 0.4894, 'grad_norm': 2.3582193851470947, 'learning_rate': 3.745130315500686e-06, 'epoch': 0.9777777777777777}\n",
      "{'loss': 0.4744, 'grad_norm': 1.5277259349822998, 'learning_rate': 3.717695473251029e-06, 'epoch': 0.9925925925925926}\n",
      "{'eval_loss': 0.4421824812889099, 'eval_accuracy': 0.8865, 'eval_runtime': 32.9741, 'eval_samples_per_second': 363.921, 'eval_steps_per_second': 5.701, 'epoch': 1.0}\n",
      "{'loss': 0.4814, 'grad_norm': 2.7898647785186768, 'learning_rate': 3.6902606310013723e-06, 'epoch': 1.0074074074074073}\n",
      "{'loss': 0.4846, 'grad_norm': 1.392715334892273, 'learning_rate': 3.662825788751715e-06, 'epoch': 1.0222222222222221}\n",
      "{'loss': 0.4492, 'grad_norm': 1.751682996749878, 'learning_rate': 3.635390946502058e-06, 'epoch': 1.037037037037037}\n",
      "{'eval_loss': 0.4192872643470764, 'eval_accuracy': 0.888, 'eval_runtime': 32.9669, 'eval_samples_per_second': 364.001, 'eval_steps_per_second': 5.703, 'epoch': 1.037037037037037}\n",
      "{'loss': 0.447, 'grad_norm': 2.1800050735473633, 'learning_rate': 3.607956104252401e-06, 'epoch': 1.0518518518518518}\n",
      "{'loss': 0.4533, 'grad_norm': 1.581433892250061, 'learning_rate': 3.5805212620027437e-06, 'epoch': 1.0666666666666667}\n",
      "{'eval_loss': 0.40053120255470276, 'eval_accuracy': 0.8888333333333334, 'eval_runtime': 32.9645, 'eval_samples_per_second': 364.028, 'eval_steps_per_second': 5.703, 'epoch': 1.074074074074074}\n",
      "{'loss': 0.4463, 'grad_norm': 1.6012437343597412, 'learning_rate': 3.5530864197530867e-06, 'epoch': 1.0814814814814815}\n",
      "{'loss': 0.4466, 'grad_norm': 3.589986562728882, 'learning_rate': 3.5256515775034293e-06, 'epoch': 1.0962962962962963}\n",
      "{'loss': 0.4588, 'grad_norm': 1.3421733379364014, 'learning_rate': 3.498216735253773e-06, 'epoch': 1.1111111111111112}\n",
      "{'eval_loss': 0.3870795965194702, 'eval_accuracy': 0.889, 'eval_runtime': 32.9572, 'eval_samples_per_second': 364.108, 'eval_steps_per_second': 5.704, 'epoch': 1.1111111111111112}\n",
      "{'loss': 0.4079, 'grad_norm': 2.043009042739868, 'learning_rate': 3.4707818930041155e-06, 'epoch': 1.125925925925926}\n",
      "{'loss': 0.4392, 'grad_norm': 1.3133732080459595, 'learning_rate': 3.4433470507544585e-06, 'epoch': 1.1407407407407408}\n",
      "{'eval_loss': 0.3758699595928192, 'eval_accuracy': 0.8888333333333334, 'eval_runtime': 32.9504, 'eval_samples_per_second': 364.184, 'eval_steps_per_second': 5.706, 'epoch': 1.1481481481481481}\n",
      "{'loss': 0.367, 'grad_norm': 2.1052370071411133, 'learning_rate': 3.415912208504801e-06, 'epoch': 1.1555555555555554}\n",
      "{'loss': 0.4251, 'grad_norm': 1.636332392692566, 'learning_rate': 3.3884773662551446e-06, 'epoch': 1.1703703703703703}\n",
      "{'loss': 0.3701, 'grad_norm': 2.0195627212524414, 'learning_rate': 3.3610425240054873e-06, 'epoch': 1.1851851851851851}\n",
      "{'eval_loss': 0.3668539524078369, 'eval_accuracy': 0.89, 'eval_runtime': 32.9457, 'eval_samples_per_second': 364.236, 'eval_steps_per_second': 5.706, 'epoch': 1.1851851851851851}\n",
      "{'loss': 0.3842, 'grad_norm': 1.8843504190444946, 'learning_rate': 3.33360768175583e-06, 'epoch': 1.2}\n",
      "{'loss': 0.4331, 'grad_norm': 1.542409896850586, 'learning_rate': 3.3061728395061734e-06, 'epoch': 1.2148148148148148}\n",
      "{'eval_loss': 0.36017969250679016, 'eval_accuracy': 0.8899166666666667, 'eval_runtime': 32.9498, 'eval_samples_per_second': 364.19, 'eval_steps_per_second': 5.706, 'epoch': 1.2222222222222223}\n",
      "{'loss': 0.4081, 'grad_norm': 2.4426591396331787, 'learning_rate': 3.278737997256516e-06, 'epoch': 1.2296296296296296}\n",
      "{'loss': 0.3983, 'grad_norm': 1.9654558897018433, 'learning_rate': 3.251303155006859e-06, 'epoch': 1.2444444444444445}\n",
      "{'loss': 0.4117, 'grad_norm': 1.4790980815887451, 'learning_rate': 3.2238683127572017e-06, 'epoch': 1.2592592592592593}\n",
      "{'eval_loss': 0.35445940494537354, 'eval_accuracy': 0.8910833333333333, 'eval_runtime': 32.9366, 'eval_samples_per_second': 364.336, 'eval_steps_per_second': 5.708, 'epoch': 1.2592592592592593}\n",
      "{'loss': 0.3868, 'grad_norm': 2.457716226577759, 'learning_rate': 3.196433470507545e-06, 'epoch': 1.2740740740740741}\n",
      "{'loss': 0.3924, 'grad_norm': 2.0278632640838623, 'learning_rate': 3.168998628257888e-06, 'epoch': 1.2888888888888888}\n",
      "{'eval_loss': 0.34983089566230774, 'eval_accuracy': 0.8909166666666667, 'eval_runtime': 32.9173, 'eval_samples_per_second': 364.55, 'eval_steps_per_second': 5.711, 'epoch': 1.2962962962962963}\n",
      "{'loss': 0.4009, 'grad_norm': 1.4697489738464355, 'learning_rate': 3.141563786008231e-06, 'epoch': 1.3037037037037038}\n",
      "{'loss': 0.3766, 'grad_norm': 2.074151039123535, 'learning_rate': 3.1141289437585735e-06, 'epoch': 1.3185185185185184}\n",
      "{'loss': 0.3971, 'grad_norm': 1.7687797546386719, 'learning_rate': 3.086694101508916e-06, 'epoch': 1.3333333333333333}\n",
      "{'eval_loss': 0.3455556631088257, 'eval_accuracy': 0.89125, 'eval_runtime': 32.942, 'eval_samples_per_second': 364.277, 'eval_steps_per_second': 5.707, 'epoch': 1.3333333333333333}\n",
      "{'loss': 0.3804, 'grad_norm': 1.446040153503418, 'learning_rate': 3.0592592592592596e-06, 'epoch': 1.348148148148148}\n",
      "{'loss': 0.3883, 'grad_norm': 1.324797511100769, 'learning_rate': 3.0318244170096023e-06, 'epoch': 1.362962962962963}\n",
      "{'eval_loss': 0.3421652913093567, 'eval_accuracy': 0.8915, 'eval_runtime': 32.9541, 'eval_samples_per_second': 364.142, 'eval_steps_per_second': 5.705, 'epoch': 1.3703703703703702}\n",
      "{'loss': 0.3566, 'grad_norm': 2.1358816623687744, 'learning_rate': 3.0043895747599453e-06, 'epoch': 1.3777777777777778}\n",
      "{'loss': 0.4061, 'grad_norm': 1.7383685111999512, 'learning_rate': 2.9769547325102884e-06, 'epoch': 1.3925925925925926}\n",
      "{'loss': 0.39, 'grad_norm': 1.2464390993118286, 'learning_rate': 2.9495198902606314e-06, 'epoch': 1.4074074074074074}\n",
      "{'eval_loss': 0.33941665291786194, 'eval_accuracy': 0.8919166666666667, 'eval_runtime': 32.9545, 'eval_samples_per_second': 364.139, 'eval_steps_per_second': 5.705, 'epoch': 1.4074074074074074}\n",
      "{'loss': 0.389, 'grad_norm': 1.811701774597168, 'learning_rate': 2.922085048010974e-06, 'epoch': 1.4222222222222223}\n",
      "{'loss': 0.3556, 'grad_norm': 1.1344068050384521, 'learning_rate': 2.8946502057613167e-06, 'epoch': 1.4370370370370371}\n",
      "{'eval_loss': 0.33715692162513733, 'eval_accuracy': 0.8915833333333333, 'eval_runtime': 32.9266, 'eval_samples_per_second': 364.447, 'eval_steps_per_second': 5.71, 'epoch': 1.4444444444444444}\n",
      "{'loss': 0.3751, 'grad_norm': 0.6663116216659546, 'learning_rate': 2.86721536351166e-06, 'epoch': 1.4518518518518517}\n",
      "{'loss': 0.3429, 'grad_norm': 2.64703106880188, 'learning_rate': 2.839780521262003e-06, 'epoch': 1.4666666666666668}\n",
      "{'loss': 0.3368, 'grad_norm': 1.851176381111145, 'learning_rate': 2.812345679012346e-06, 'epoch': 1.4814814814814814}\n",
      "{'eval_loss': 0.33521854877471924, 'eval_accuracy': 0.89125, 'eval_runtime': 32.9317, 'eval_samples_per_second': 364.39, 'eval_steps_per_second': 5.709, 'epoch': 1.4814814814814814}\n",
      "{'loss': 0.3292, 'grad_norm': 1.0670076608657837, 'learning_rate': 2.7849108367626885e-06, 'epoch': 1.4962962962962962}\n",
      "{'loss': 0.3573, 'grad_norm': 1.3225998878479004, 'learning_rate': 2.757475994513032e-06, 'epoch': 1.511111111111111}\n",
      "{'eval_loss': 0.3332720398902893, 'eval_accuracy': 0.89125, 'eval_runtime': 32.9627, 'eval_samples_per_second': 364.048, 'eval_steps_per_second': 5.703, 'epoch': 1.5185185185185186}\n",
      "{'loss': 0.3744, 'grad_norm': 1.6422439813613892, 'learning_rate': 2.7300411522633746e-06, 'epoch': 1.525925925925926}\n",
      "{'loss': 0.3548, 'grad_norm': 0.9414030909538269, 'learning_rate': 2.7026063100137177e-06, 'epoch': 1.5407407407407407}\n",
      "{'loss': 0.3852, 'grad_norm': 1.2939094305038452, 'learning_rate': 2.6751714677640607e-06, 'epoch': 1.5555555555555556}\n",
      "{'eval_loss': 0.33155736327171326, 'eval_accuracy': 0.89175, 'eval_runtime': 32.9309, 'eval_samples_per_second': 364.399, 'eval_steps_per_second': 5.709, 'epoch': 1.5555555555555556}\n",
      "{'loss': 0.3073, 'grad_norm': 2.7813146114349365, 'learning_rate': 2.6477366255144034e-06, 'epoch': 1.5703703703703704}\n",
      "{'loss': 0.4023, 'grad_norm': 1.263747215270996, 'learning_rate': 2.6203017832647464e-06, 'epoch': 1.585185185185185}\n",
      "{'eval_loss': 0.33014732599258423, 'eval_accuracy': 0.8920833333333333, 'eval_runtime': 32.9332, 'eval_samples_per_second': 364.374, 'eval_steps_per_second': 5.709, 'epoch': 1.5925925925925926}\n",
      "{'loss': 0.3796, 'grad_norm': 2.1495442390441895, 'learning_rate': 2.592866941015089e-06, 'epoch': 1.6}\n",
      "{'loss': 0.3464, 'grad_norm': 1.7672325372695923, 'learning_rate': 2.5654320987654325e-06, 'epoch': 1.6148148148148147}\n",
      "{'loss': 0.3416, 'grad_norm': 1.200772762298584, 'learning_rate': 2.537997256515775e-06, 'epoch': 1.6296296296296298}\n",
      "{'eval_loss': 0.3288961350917816, 'eval_accuracy': 0.8924166666666666, 'eval_runtime': 32.9573, 'eval_samples_per_second': 364.107, 'eval_steps_per_second': 5.704, 'epoch': 1.6296296296296298}\n",
      "{'loss': 0.3259, 'grad_norm': 1.9132236242294312, 'learning_rate': 2.5105624142661182e-06, 'epoch': 1.6444444444444444}\n",
      "{'loss': 0.3573, 'grad_norm': 3.1657583713531494, 'learning_rate': 2.483127572016461e-06, 'epoch': 1.6592592592592592}\n",
      "{'eval_loss': 0.32797399163246155, 'eval_accuracy': 0.8921666666666667, 'eval_runtime': 32.9285, 'eval_samples_per_second': 364.426, 'eval_steps_per_second': 5.709, 'epoch': 1.6666666666666665}\n",
      "{'loss': 0.3539, 'grad_norm': 1.4319074153900146, 'learning_rate': 2.455692729766804e-06, 'epoch': 1.674074074074074}\n",
      "{'loss': 0.3521, 'grad_norm': 1.253583550453186, 'learning_rate': 2.428257887517147e-06, 'epoch': 1.6888888888888889}\n",
      "{'loss': 0.3324, 'grad_norm': 2.32928466796875, 'learning_rate': 2.40082304526749e-06, 'epoch': 1.7037037037037037}\n",
      "{'eval_loss': 0.32708540558815, 'eval_accuracy': 0.8925, 'eval_runtime': 32.9634, 'eval_samples_per_second': 364.04, 'eval_steps_per_second': 5.703, 'epoch': 1.7037037037037037}\n",
      "{'loss': 0.369, 'grad_norm': 1.2666454315185547, 'learning_rate': 2.373388203017833e-06, 'epoch': 1.7185185185185186}\n",
      "{'loss': 0.3445, 'grad_norm': 0.8144997954368591, 'learning_rate': 2.3459533607681757e-06, 'epoch': 1.7333333333333334}\n",
      "{'eval_loss': 0.32628747820854187, 'eval_accuracy': 0.893, 'eval_runtime': 32.9416, 'eval_samples_per_second': 364.281, 'eval_steps_per_second': 5.707, 'epoch': 1.7407407407407407}\n",
      "{'loss': 0.3589, 'grad_norm': 1.3809493780136108, 'learning_rate': 2.318518518518519e-06, 'epoch': 1.748148148148148}\n",
      "{'loss': 0.3899, 'grad_norm': 2.1327240467071533, 'learning_rate': 2.2910836762688614e-06, 'epoch': 1.762962962962963}\n",
      "{'loss': 0.3345, 'grad_norm': 1.952636957168579, 'learning_rate': 2.2636488340192045e-06, 'epoch': 1.7777777777777777}\n",
      "{'eval_loss': 0.32523271441459656, 'eval_accuracy': 0.893, 'eval_runtime': 32.9272, 'eval_samples_per_second': 364.44, 'eval_steps_per_second': 5.71, 'epoch': 1.7777777777777777}\n",
      "{'loss': 0.3257, 'grad_norm': 1.108137607574463, 'learning_rate': 2.2362139917695475e-06, 'epoch': 1.7925925925925927}\n",
      "{'loss': 0.3201, 'grad_norm': 2.7131741046905518, 'learning_rate': 2.2087791495198906e-06, 'epoch': 1.8074074074074074}\n",
      "{'eval_loss': 0.3245924711227417, 'eval_accuracy': 0.8930833333333333, 'eval_runtime': 32.9356, 'eval_samples_per_second': 364.347, 'eval_steps_per_second': 5.708, 'epoch': 1.8148148148148149}\n",
      "{'loss': 0.3644, 'grad_norm': 2.608711004257202, 'learning_rate': 2.1813443072702332e-06, 'epoch': 1.8222222222222222}\n",
      "{'loss': 0.3377, 'grad_norm': 1.2540291547775269, 'learning_rate': 2.1539094650205763e-06, 'epoch': 1.837037037037037}\n",
      "{'loss': 0.3803, 'grad_norm': 1.9561927318572998, 'learning_rate': 2.1264746227709194e-06, 'epoch': 1.8518518518518519}\n",
      "{'eval_loss': 0.3239653706550598, 'eval_accuracy': 0.8921666666666667, 'eval_runtime': 32.9431, 'eval_samples_per_second': 364.264, 'eval_steps_per_second': 5.707, 'epoch': 1.8518518518518519}\n",
      "{'loss': 0.3125, 'grad_norm': 1.3435933589935303, 'learning_rate': 2.0990397805212624e-06, 'epoch': 1.8666666666666667}\n",
      "{'loss': 0.3539, 'grad_norm': 1.131054162979126, 'learning_rate': 2.071604938271605e-06, 'epoch': 1.8814814814814815}\n",
      "{'eval_loss': 0.3234541416168213, 'eval_accuracy': 0.8928333333333334, 'eval_runtime': 32.9278, 'eval_samples_per_second': 364.434, 'eval_steps_per_second': 5.709, 'epoch': 1.8888888888888888}\n",
      "{'loss': 0.3229, 'grad_norm': 2.138991355895996, 'learning_rate': 2.044170096021948e-06, 'epoch': 1.8962962962962964}\n",
      "{'loss': 0.319, 'grad_norm': 1.3731716871261597, 'learning_rate': 2.0167352537722907e-06, 'epoch': 1.911111111111111}\n",
      "{'loss': 0.3841, 'grad_norm': 3.690326452255249, 'learning_rate': 1.989300411522634e-06, 'epoch': 1.925925925925926}\n",
      "{'eval_loss': 0.32296299934387207, 'eval_accuracy': 0.893, 'eval_runtime': 32.9451, 'eval_samples_per_second': 364.243, 'eval_steps_per_second': 5.706, 'epoch': 1.925925925925926}\n",
      "{'loss': 0.344, 'grad_norm': 1.1503210067749023, 'learning_rate': 1.961865569272977e-06, 'epoch': 1.9407407407407407}\n",
      "{'loss': 0.3151, 'grad_norm': 0.41759997606277466, 'learning_rate': 1.93443072702332e-06, 'epoch': 1.9555555555555557}\n",
      "{'eval_loss': 0.3223072588443756, 'eval_accuracy': 0.8930833333333333, 'eval_runtime': 32.962, 'eval_samples_per_second': 364.056, 'eval_steps_per_second': 5.704, 'epoch': 1.9629629629629628}\n",
      "{'loss': 0.363, 'grad_norm': 1.6304367780685425, 'learning_rate': 1.9069958847736628e-06, 'epoch': 1.9703703703703703}\n",
      "{'loss': 0.3758, 'grad_norm': 2.5878610610961914, 'learning_rate': 1.8795610425240058e-06, 'epoch': 1.9851851851851852}\n",
      "{'loss': 0.3126, 'grad_norm': 1.015583872795105, 'learning_rate': 1.8521262002743487e-06, 'epoch': 2.0}\n",
      "{'eval_loss': 0.32180333137512207, 'eval_accuracy': 0.8930833333333333, 'eval_runtime': 32.9369, 'eval_samples_per_second': 364.333, 'eval_steps_per_second': 5.708, 'epoch': 2.0}\n",
      "{'loss': 0.3447, 'grad_norm': 2.4189558029174805, 'learning_rate': 1.8246913580246913e-06, 'epoch': 2.0148148148148146}\n",
      "{'loss': 0.3406, 'grad_norm': 2.032162666320801, 'learning_rate': 1.7972565157750344e-06, 'epoch': 2.0296296296296297}\n",
      "{'eval_loss': 0.32169824838638306, 'eval_accuracy': 0.8925, 'eval_runtime': 32.9484, 'eval_samples_per_second': 364.205, 'eval_steps_per_second': 5.706, 'epoch': 2.037037037037037}\n",
      "{'loss': 0.3293, 'grad_norm': 4.852639675140381, 'learning_rate': 1.7698216735253774e-06, 'epoch': 2.0444444444444443}\n",
      "{'loss': 0.3345, 'grad_norm': 1.5219837427139282, 'learning_rate': 1.7423868312757203e-06, 'epoch': 2.0592592592592593}\n",
      "{'loss': 0.3676, 'grad_norm': 2.4474573135375977, 'learning_rate': 1.7149519890260633e-06, 'epoch': 2.074074074074074}\n",
      "{'eval_loss': 0.32128503918647766, 'eval_accuracy': 0.8928333333333334, 'eval_runtime': 32.957, 'eval_samples_per_second': 364.111, 'eval_steps_per_second': 5.704, 'epoch': 2.074074074074074}\n",
      "{'loss': 0.3747, 'grad_norm': 2.8655951023101807, 'learning_rate': 1.6875171467764062e-06, 'epoch': 2.088888888888889}\n",
      "{'loss': 0.3248, 'grad_norm': 1.4309911727905273, 'learning_rate': 1.6600823045267492e-06, 'epoch': 2.1037037037037036}\n",
      "{'eval_loss': 0.3208369016647339, 'eval_accuracy': 0.8926666666666667, 'eval_runtime': 32.937, 'eval_samples_per_second': 364.332, 'eval_steps_per_second': 5.708, 'epoch': 2.111111111111111}\n",
      "{'loss': 0.3456, 'grad_norm': 1.8377513885498047, 'learning_rate': 1.632647462277092e-06, 'epoch': 2.1185185185185187}\n",
      "{'loss': 0.3385, 'grad_norm': 3.3035008907318115, 'learning_rate': 1.6052126200274351e-06, 'epoch': 2.1333333333333333}\n",
      "{'loss': 0.3773, 'grad_norm': 0.9738295674324036, 'learning_rate': 1.5777777777777778e-06, 'epoch': 2.148148148148148}\n",
      "{'eval_loss': 0.3202636241912842, 'eval_accuracy': 0.8929166666666667, 'eval_runtime': 32.9286, 'eval_samples_per_second': 364.424, 'eval_steps_per_second': 5.709, 'epoch': 2.148148148148148}\n",
      "{'loss': 0.3633, 'grad_norm': 1.9067986011505127, 'learning_rate': 1.5503429355281208e-06, 'epoch': 2.162962962962963}\n",
      "{'loss': 0.3406, 'grad_norm': 1.740983247756958, 'learning_rate': 1.5229080932784637e-06, 'epoch': 2.1777777777777776}\n",
      "{'eval_loss': 0.31971296668052673, 'eval_accuracy': 0.8933333333333333, 'eval_runtime': 32.9218, 'eval_samples_per_second': 364.5, 'eval_steps_per_second': 5.71, 'epoch': 2.185185185185185}\n",
      "{'loss': 0.3739, 'grad_norm': 2.3143444061279297, 'learning_rate': 1.4954732510288067e-06, 'epoch': 2.1925925925925926}\n",
      "{'loss': 0.3191, 'grad_norm': 2.030186414718628, 'learning_rate': 1.4680384087791496e-06, 'epoch': 2.2074074074074073}\n",
      "{'loss': 0.3738, 'grad_norm': 1.669688105583191, 'learning_rate': 1.4406035665294926e-06, 'epoch': 2.2222222222222223}\n",
      "{'eval_loss': 0.31934094429016113, 'eval_accuracy': 0.8935, 'eval_runtime': 32.9575, 'eval_samples_per_second': 364.105, 'eval_steps_per_second': 5.704, 'epoch': 2.2222222222222223}\n",
      "{'loss': 0.3107, 'grad_norm': 2.1347763538360596, 'learning_rate': 1.4131687242798357e-06, 'epoch': 2.237037037037037}\n",
      "{'loss': 0.3583, 'grad_norm': 0.7909657955169678, 'learning_rate': 1.3857338820301785e-06, 'epoch': 2.251851851851852}\n",
      "{'eval_loss': 0.3190285563468933, 'eval_accuracy': 0.8933333333333333, 'eval_runtime': 32.9509, 'eval_samples_per_second': 364.178, 'eval_steps_per_second': 5.705, 'epoch': 2.259259259259259}\n",
      "{'loss': 0.297, 'grad_norm': 1.7955368757247925, 'learning_rate': 1.3582990397805212e-06, 'epoch': 2.2666666666666666}\n",
      "{'loss': 0.3637, 'grad_norm': 0.8966556191444397, 'learning_rate': 1.3308641975308642e-06, 'epoch': 2.2814814814814817}\n",
      "{'loss': 0.327, 'grad_norm': 2.9422659873962402, 'learning_rate': 1.3034293552812073e-06, 'epoch': 2.2962962962962963}\n",
      "{'eval_loss': 0.31863200664520264, 'eval_accuracy': 0.8938333333333334, 'eval_runtime': 32.9653, 'eval_samples_per_second': 364.019, 'eval_steps_per_second': 5.703, 'epoch': 2.2962962962962963}\n",
      "{'loss': 0.3366, 'grad_norm': 1.460363507270813, 'learning_rate': 1.2759945130315501e-06, 'epoch': 2.311111111111111}\n",
      "{'loss': 0.346, 'grad_norm': 2.082305431365967, 'learning_rate': 1.2485596707818932e-06, 'epoch': 2.325925925925926}\n",
      "{'eval_loss': 0.3183569014072418, 'eval_accuracy': 0.894, 'eval_runtime': 32.9749, 'eval_samples_per_second': 363.913, 'eval_steps_per_second': 5.701, 'epoch': 2.3333333333333335}\n",
      "{'loss': 0.3296, 'grad_norm': 1.553848147392273, 'learning_rate': 1.221124828532236e-06, 'epoch': 2.3407407407407406}\n",
      "{'loss': 0.3564, 'grad_norm': 1.2115952968597412, 'learning_rate': 1.193689986282579e-06, 'epoch': 2.3555555555555556}\n",
      "{'loss': 0.33, 'grad_norm': 1.081540584564209, 'learning_rate': 1.166255144032922e-06, 'epoch': 2.3703703703703702}\n",
      "{'eval_loss': 0.31807851791381836, 'eval_accuracy': 0.8944166666666666, 'eval_runtime': 32.9641, 'eval_samples_per_second': 364.033, 'eval_steps_per_second': 5.703, 'epoch': 2.3703703703703702}\n",
      "{'loss': 0.3437, 'grad_norm': 2.080514430999756, 'learning_rate': 1.1388203017832648e-06, 'epoch': 2.3851851851851853}\n",
      "{'loss': 0.3406, 'grad_norm': 1.7482283115386963, 'learning_rate': 1.1113854595336078e-06, 'epoch': 2.4}\n",
      "{'eval_loss': 0.31765565276145935, 'eval_accuracy': 0.8946666666666667, 'eval_runtime': 32.9725, 'eval_samples_per_second': 363.94, 'eval_steps_per_second': 5.702, 'epoch': 2.4074074074074074}\n",
      "{'loss': 0.3433, 'grad_norm': 2.9878292083740234, 'learning_rate': 1.0839506172839507e-06, 'epoch': 2.414814814814815}\n",
      "{'loss': 0.3444, 'grad_norm': 2.9443397521972656, 'learning_rate': 1.0565157750342935e-06, 'epoch': 2.4296296296296296}\n",
      "{'loss': 0.3384, 'grad_norm': 1.8946082592010498, 'learning_rate': 1.0290809327846366e-06, 'epoch': 2.4444444444444446}\n",
      "{'eval_loss': 0.3174532353878021, 'eval_accuracy': 0.89475, 'eval_runtime': 32.9794, 'eval_samples_per_second': 363.864, 'eval_steps_per_second': 5.701, 'epoch': 2.4444444444444446}\n",
      "{'loss': 0.3474, 'grad_norm': 1.2786582708358765, 'learning_rate': 1.0016460905349794e-06, 'epoch': 2.4592592592592593}\n",
      "{'loss': 0.323, 'grad_norm': 2.867612600326538, 'learning_rate': 9.742112482853225e-07, 'epoch': 2.474074074074074}\n",
      "{'eval_loss': 0.3172740340232849, 'eval_accuracy': 0.8946666666666667, 'eval_runtime': 32.9416, 'eval_samples_per_second': 364.281, 'eval_steps_per_second': 5.707, 'epoch': 2.4814814814814814}\n",
      "{'loss': 0.3433, 'grad_norm': 2.696957588195801, 'learning_rate': 9.467764060356653e-07, 'epoch': 2.488888888888889}\n",
      "{'loss': 0.3593, 'grad_norm': 2.4087235927581787, 'learning_rate': 9.193415637860083e-07, 'epoch': 2.5037037037037035}\n",
      "{'loss': 0.3562, 'grad_norm': 1.8982242345809937, 'learning_rate': 8.919067215363512e-07, 'epoch': 2.5185185185185186}\n",
      "{'eval_loss': 0.3170876204967499, 'eval_accuracy': 0.8945, 'eval_runtime': 32.95, 'eval_samples_per_second': 364.188, 'eval_steps_per_second': 5.706, 'epoch': 2.5185185185185186}\n",
      "{'loss': 0.3217, 'grad_norm': 1.3651514053344727, 'learning_rate': 8.644718792866942e-07, 'epoch': 2.533333333333333}\n",
      "{'loss': 0.3334, 'grad_norm': 2.67716121673584, 'learning_rate': 8.37037037037037e-07, 'epoch': 2.5481481481481483}\n",
      "{'eval_loss': 0.3169107437133789, 'eval_accuracy': 0.8945, 'eval_runtime': 32.9448, 'eval_samples_per_second': 364.245, 'eval_steps_per_second': 5.707, 'epoch': 2.5555555555555554}\n",
      "{'loss': 0.3189, 'grad_norm': 1.8857395648956299, 'learning_rate': 8.0960219478738e-07, 'epoch': 2.562962962962963}\n",
      "{'loss': 0.3459, 'grad_norm': 1.6491011381149292, 'learning_rate': 7.821673525377229e-07, 'epoch': 2.5777777777777775}\n",
      "{'loss': 0.383, 'grad_norm': 2.652296543121338, 'learning_rate': 7.547325102880659e-07, 'epoch': 2.5925925925925926}\n",
      "{'eval_loss': 0.3166584074497223, 'eval_accuracy': 0.8941666666666667, 'eval_runtime': 32.9171, 'eval_samples_per_second': 364.552, 'eval_steps_per_second': 5.711, 'epoch': 2.5925925925925926}\n",
      "{'loss': 0.3119, 'grad_norm': 1.540518045425415, 'learning_rate': 7.272976680384089e-07, 'epoch': 2.6074074074074076}\n",
      "{'loss': 0.3373, 'grad_norm': 2.038890838623047, 'learning_rate': 6.998628257887517e-07, 'epoch': 2.6222222222222222}\n",
      "{'eval_loss': 0.3165670931339264, 'eval_accuracy': 0.8945, 'eval_runtime': 32.9257, 'eval_samples_per_second': 364.457, 'eval_steps_per_second': 5.71, 'epoch': 2.6296296296296298}\n",
      "{'loss': 0.3497, 'grad_norm': 3.333563804626465, 'learning_rate': 6.724279835390947e-07, 'epoch': 2.637037037037037}\n",
      "{'loss': 0.2984, 'grad_norm': 1.4987611770629883, 'learning_rate': 6.449931412894377e-07, 'epoch': 2.651851851851852}\n",
      "{'loss': 0.2806, 'grad_norm': 2.788919687271118, 'learning_rate': 6.175582990397805e-07, 'epoch': 2.6666666666666665}\n",
      "{'eval_loss': 0.31644901633262634, 'eval_accuracy': 0.8946666666666667, 'eval_runtime': 32.914, 'eval_samples_per_second': 364.586, 'eval_steps_per_second': 5.712, 'epoch': 2.6666666666666665}\n",
      "{'loss': 0.3315, 'grad_norm': 0.43124011158943176, 'learning_rate': 5.901234567901235e-07, 'epoch': 2.6814814814814816}\n",
      "{'loss': 0.3571, 'grad_norm': 2.722231149673462, 'learning_rate': 5.626886145404664e-07, 'epoch': 2.696296296296296}\n",
      "{'eval_loss': 0.31633460521698, 'eval_accuracy': 0.8946666666666667, 'eval_runtime': 32.9361, 'eval_samples_per_second': 364.342, 'eval_steps_per_second': 5.708, 'epoch': 2.7037037037037037}\n",
      "{'loss': 0.3324, 'grad_norm': 2.6131467819213867, 'learning_rate': 5.352537722908094e-07, 'epoch': 2.7111111111111112}\n",
      "{'loss': 0.3246, 'grad_norm': 2.803719997406006, 'learning_rate': 5.078189300411522e-07, 'epoch': 2.725925925925926}\n",
      "{'loss': 0.316, 'grad_norm': 1.3195598125457764, 'learning_rate': 4.803840877914953e-07, 'epoch': 2.7407407407407405}\n",
      "{'eval_loss': 0.31623780727386475, 'eval_accuracy': 0.895, 'eval_runtime': 32.9501, 'eval_samples_per_second': 364.187, 'eval_steps_per_second': 5.706, 'epoch': 2.7407407407407405}\n",
      "{'loss': 0.3459, 'grad_norm': 2.5659446716308594, 'learning_rate': 4.5294924554183814e-07, 'epoch': 2.7555555555555555}\n",
      "{'loss': 0.3683, 'grad_norm': 2.2504703998565674, 'learning_rate': 4.255144032921811e-07, 'epoch': 2.7703703703703706}\n",
      "{'eval_loss': 0.3160876929759979, 'eval_accuracy': 0.8951666666666667, 'eval_runtime': 32.9295, 'eval_samples_per_second': 364.415, 'eval_steps_per_second': 5.709, 'epoch': 2.7777777777777777}\n",
      "{'loss': 0.3522, 'grad_norm': 1.4583003520965576, 'learning_rate': 3.980795610425241e-07, 'epoch': 2.785185185185185}\n",
      "{'loss': 0.3677, 'grad_norm': 2.656967878341675, 'learning_rate': 3.7064471879286694e-07, 'epoch': 2.8}\n",
      "{'loss': 0.3487, 'grad_norm': 1.791593074798584, 'learning_rate': 3.4320987654320995e-07, 'epoch': 2.814814814814815}\n",
      "{'eval_loss': 0.31596118211746216, 'eval_accuracy': 0.8949166666666667, 'eval_runtime': 32.9443, 'eval_samples_per_second': 364.251, 'eval_steps_per_second': 5.707, 'epoch': 2.814814814814815}\n",
      "{'loss': 0.3128, 'grad_norm': 0.8730875849723816, 'learning_rate': 3.1577503429355284e-07, 'epoch': 2.8296296296296295}\n",
      "{'loss': 0.3432, 'grad_norm': 1.9267945289611816, 'learning_rate': 2.8834019204389574e-07, 'epoch': 2.8444444444444446}\n",
      "{'eval_loss': 0.31591856479644775, 'eval_accuracy': 0.8949166666666667, 'eval_runtime': 32.9509, 'eval_samples_per_second': 364.178, 'eval_steps_per_second': 5.705, 'epoch': 2.851851851851852}\n",
      "{'loss': 0.3099, 'grad_norm': 0.7628488540649414, 'learning_rate': 2.609053497942387e-07, 'epoch': 2.859259259259259}\n",
      "{'loss': 0.3231, 'grad_norm': 1.4754105806350708, 'learning_rate': 2.3347050754458162e-07, 'epoch': 2.8740740740740742}\n",
      "{'loss': 0.3579, 'grad_norm': 0.9029877185821533, 'learning_rate': 2.060356652949246e-07, 'epoch': 2.888888888888889}\n",
      "{'eval_loss': 0.31589874625205994, 'eval_accuracy': 0.8950833333333333, 'eval_runtime': 32.9133, 'eval_samples_per_second': 364.594, 'eval_steps_per_second': 5.712, 'epoch': 2.888888888888889}\n",
      "{'loss': 0.3402, 'grad_norm': 1.9373739957809448, 'learning_rate': 1.7860082304526752e-07, 'epoch': 2.9037037037037035}\n",
      "{'loss': 0.3645, 'grad_norm': 2.2350621223449707, 'learning_rate': 1.5116598079561042e-07, 'epoch': 2.9185185185185185}\n",
      "{'eval_loss': 0.3158782422542572, 'eval_accuracy': 0.8950833333333333, 'eval_runtime': 32.9247, 'eval_samples_per_second': 364.468, 'eval_steps_per_second': 5.71, 'epoch': 2.925925925925926}\n",
      "{'loss': 0.313, 'grad_norm': 1.8173222541809082, 'learning_rate': 1.2373113854595337e-07, 'epoch': 2.9333333333333336}\n",
      "{'loss': 0.3132, 'grad_norm': 1.9375925064086914, 'learning_rate': 9.629629629629631e-08, 'epoch': 2.948148148148148}\n",
      "{'loss': 0.3219, 'grad_norm': 1.0284676551818848, 'learning_rate': 6.886145404663924e-08, 'epoch': 2.962962962962963}\n",
      "{'eval_loss': 0.315848171710968, 'eval_accuracy': 0.8950833333333333, 'eval_runtime': 32.929, 'eval_samples_per_second': 364.42, 'eval_steps_per_second': 5.709, 'epoch': 2.962962962962963}\n",
      "{'loss': 0.3447, 'grad_norm': 1.1329377889633179, 'learning_rate': 4.142661179698217e-08, 'epoch': 2.977777777777778}\n",
      "{'loss': 0.3231, 'grad_norm': 1.9084546566009521, 'learning_rate': 1.3991769547325104e-08, 'epoch': 2.9925925925925925}\n",
      "{'eval_loss': 0.31583940982818604, 'eval_accuracy': 0.8950833333333333, 'eval_runtime': 32.9432, 'eval_samples_per_second': 364.263, 'eval_steps_per_second': 5.707, 'epoch': 3.0}\n",
      "{'train_runtime': 5597.0502, 'train_samples_per_second': 57.888, 'train_steps_per_second': 3.618, 'train_loss': 0.5984563808676637, 'epoch': 3.0}\n",
      "✅ Training complete.\n"
     ]
    },
    {
     "data": {
      "image/png": "[encoded data removed]",
      "text/plain": [
       "<Figure size 640x480 with 1 Axes>"
      ]
     },
     "metadata": {},
     "output_type": "display_data"
    },
    {
     "data": {
      "image/png": "[encoded data removed]",
      "text/plain": [
       "<Figure size 640x480 with 1 Axes>"
      ]
     },
     "metadata": {},
     "output_type": "display_data"
    }
   ],
   "source": [
    "import matplotlib.pyplot as plt\n",
    "from transformers import TrainingArguments\n",
    "from sklearn.metrics import accuracy_score # Import accuracy_score\n",
    "train_result = trainer.train()\n",
    "print(\"✅ Training complete.\")\n",
    "\n",
    "# 2) Grab the log history\n",
    "logs = trainer.state.log_history\n",
    "\n",
    "# 3) Split train vs. eval entries\n",
    "train_logs = [e for e in logs if \"loss\" in e and \"eval_loss\" not in e]\n",
    "eval_logs  = [e for e in logs if \"eval_loss\" in e]\n",
    "\n",
    "# 4) Pull out steps & values\n",
    "train_steps   = [e[\"step\"] for e in train_logs]\n",
    "train_losses  = [e[\"loss\"] for e in train_logs]\n",
    "\n",
    "eval_steps    = [e[\"step\"] for e in eval_logs]\n",
    "eval_losses   = [e[\"eval_loss\"] for e in eval_logs]\n",
    "eval_accs     = [e[\"eval_accuracy\"] for e in eval_logs]\n",
    "\n",
    "# 5) Plot Loss vs Steps\n",
    "plt.figure()\n",
    "plt.plot(train_steps, train_losses, label=\"Train Loss\")\n",
    "plt.plot(eval_steps,  eval_losses,  label=\"Validation Loss\")\n",
    "plt.xlabel(\"Training Steps\")\n",
    "plt.ylabel(\"Loss\")\n",
    "plt.title(\"Loss vs. Training Steps\")\n",
    "plt.legend()\n",
    "plt.show()\n",
    "\n",
    "# 6) Plot Accuracy vs Steps\n",
    "plt.figure()\n",
    "plt.plot(eval_steps, eval_accs, label=\"Evaluation Accuracy\")\n",
    "plt.xlabel(\"Training Steps\")\n",
    "plt.ylabel(\"Accuracy\")\n",
    "plt.title(\"Evaluation Accuracy vs. Training Steps\")\n",
    "plt.legend()\n",
    "plt.show()"
   ]
  },
  {
   "cell_type": "code",
   "execution_count": 53,
   "id": "8ee59ed9-d6cb-411d-ad85-a5c9567f3fd5",
   "metadata": {
    "tags": []
   },
   "outputs": [
    {
     "data": {
      "image/png": "[encoded data removed]",
      "text/plain": [
       "<Figure size 640x480 with 1 Axes>"
      ]
     },
     "metadata": {},
     "output_type": "display_data"
    },
    {
     "data": {
      "image/png": "[encoded data removed]",
      "text/plain": [
       "<Figure size 640x480 with 1 Axes>"
      ]
     },
     "metadata": {},
     "output_type": "display_data"
    }
   ],
   "source": [
    "# 2) Grab the log history\n",
    "logs = trainer.state.log_history\n",
    "\n",
    "# 3) Split train vs. eval entries\n",
    "train_logs = [e for e in logs if \"loss\" in e and \"eval_loss\" not in e]\n",
    "eval_logs  = [e for e in logs if \"eval_loss\" in e]\n",
    "\n",
    "# 4) Pull out steps & values\n",
    "train_steps   = [e[\"step\"] for e in train_logs]\n",
    "train_losses  = [e[\"loss\"] for e in train_logs]\n",
    "\n",
    "eval_steps    = [e[\"step\"] for e in eval_logs]\n",
    "eval_losses   = [e[\"eval_loss\"] for e in eval_logs]\n",
    "eval_accs     = [e[\"eval_accuracy\"] for e in eval_logs]\n",
    "\n",
    "# 5) Plot Loss vs Steps\n",
    "plt.figure()\n",
    "plt.plot(train_steps, train_losses, label=\"Train Loss\")\n",
    "plt.plot(eval_steps,  eval_losses,  label=\"Validation Loss\")\n",
    "plt.xlabel(\"Training Steps\")\n",
    "plt.ylabel(\"Loss\")\n",
    "plt.title(\"Loss vs. Training Steps\")\n",
    "plt.legend()\n",
    "plt.show()\n",
    "\n",
    "# 6) Plot Accuracy vs Steps\n",
    "plt.figure()\n",
    "plt.plot(eval_steps, eval_accs, label=\"Evaluation Accuracy\")\n",
    "plt.xlabel(\"Training Steps\")\n",
    "plt.ylabel(\"Accuracy\")\n",
    "plt.title(\"Evaluation Accuracy vs. Training Steps\")\n",
    "plt.legend()\n",
    "plt.show()"
   ]
  },
  {
   "cell_type": "code",
   "execution_count": 54,
   "id": "7974e80b-b11a-4033-b417-fd1dcb53cc06",
   "metadata": {
    "tags": []
   },
   "outputs": [
    {
     "name": "stdout",
     "output_type": "stream",
     "text": [
      "Final training loss: 0.3231\n",
      "Validation accuracy at last evaluation: 0.8951\n"
     ]
    }
   ],
   "source": [
    "# Extract training and evaluation metrics from the trainer's log history\n",
    "import numpy as np\n",
    "history = trainer.state.log_history\n",
    "\n",
    "# Lists to store metrics for plotting\n",
    "train_losses = []\n",
    "val_accuracies = []\n",
    "steps = []\n",
    "\n",
    "for record in history:\n",
    "    if 'loss' in record and 'step' in record:\n",
    "        # Record training loss\n",
    "        train_losses.append(record['loss'])\n",
    "        steps.append(record['step'])\n",
    "    if 'eval_accuracy' in record:\n",
    "        # Record validation accuracy\n",
    "        val_accuracies.append(record['eval_accuracy'])\n",
    "\n",
    "# Convert to numpy for easier handling (optional)\n",
    "train_losses = np.array(train_losses)\n",
    "val_accuracies = np.array(val_accuracies)\n",
    "steps = np.array(steps)\n",
    "\n",
    "# Print out the final training loss and final validation accuracy\n",
    "if train_losses.size > 0:\n",
    "    print(f\"Final training loss: {train_losses[-1]:.4f}\")\n",
    "if val_accuracies.size > 0:\n",
    "    print(f\"Validation accuracy at last evaluation: {val_accuracies[-1]:.4f}\")"
   ]
  },
  {
   "cell_type": "markdown",
   "id": "1f386d92-2472-419d-afe3-16c113c1af6a",
   "metadata": {},
   "source": [
    "## Testing"
   ]
  },
  {
   "cell_type": "code",
   "execution_count": 55,
   "id": "60729202-3999-4a26-a89e-68e91d2dbf09",
   "metadata": {
    "tags": []
   },
   "outputs": [
    {
     "name": "stdout",
     "output_type": "stream",
     "text": [
      "{'eval_loss': 0.32647398114204407, 'eval_accuracy': 0.8982894736842105, 'eval_runtime': 18.6686, 'eval_samples_per_second': 407.101, 'eval_steps_per_second': 6.374, 'epoch': 3.0}\n",
      "Test set accuracy: 0.8983\n",
      "Total trainable parameters (final model): 630,532\n"
     ]
    }
   ],
   "source": [
    "from sklearn.metrics import accuracy_score\n",
    "# Evaluate the fine-tuned model on the test set\n",
    "test_metrics = trainer.evaluate(eval_dataset=test_dataset)\n",
    "print(f\"Test set accuracy: {test_metrics['eval_accuracy']:.4f}\")\n",
    "print(f\"Total trainable parameters (final model): {count_trainable_parameters(peft_model):,}\")\n",
    "\n"
   ]
  },
  {
   "cell_type": "code",
   "execution_count": 27,
   "id": "0b82be91-4bd4-4b9f-8c4a-da3140ae0611",
   "metadata": {
    "tags": []
   },
   "outputs": [
    {
     "name": "stdout",
     "output_type": "stream",
     "text": [
      "Text: 'Stocks rallied as the tech giant reported record profits for the quarter.'\n",
      "Predicted Category: Business\n",
      "\n",
      "Text: 'The championship game went into overtime with an incredible last-minute goal.'\n",
      "Predicted Category: Sports\n"
     ]
    }
   ],
   "source": [
    "# Example: Single prediction function\n",
    "def predict_class(text):\n",
    "    encoding = tokenizer(text, truncation=True, padding=True, return_tensors=\"pt\")\n",
    "    encoding = {k: v.to(trainer.model.device) for k,v in encoding.items()}\n",
    "    outputs = peft_model(**encoding)\n",
    "    pred_label_id = outputs.logits.argmax(dim=-1).item()\n",
    "    return id2label[pred_label_id]\n",
    "\n",
    "# Predict on a couple of example texts\n",
    "example_text1 = \"Stocks rallied as the tech giant reported record profits for the quarter.\"\n",
    "example_text2 = \"The championship game went into overtime with an incredible last-minute goal.\"\n",
    "print(f\"Text: '{example_text1}'\\nPredicted Category: {predict_class(example_text1)}\")\n",
    "print(f\"\\nText: '{example_text2}'\\nPredicted Category: {predict_class(example_text2)}\")\n"
   ]
  },
  {
   "cell_type": "markdown",
   "id": "5183be7e-514f-4e64-a6f4-314a827e6be5",
   "metadata": {
    "id": "5183be7e-514f-4e64-a6f4-314a827e6be5"
   },
   "source": [
    "## Evaluate Finetuned Model\n"
   ]
  },
  {
   "cell_type": "markdown",
   "id": "038198cf-0953-47e7-bd47-b073d05f8378",
   "metadata": {
    "id": "038198cf-0953-47e7-bd47-b073d05f8378"
   },
   "source": [
    "### Performing Inference on Custom Input\n",
    "Uncomment following functions for running inference on custom inputs"
   ]
  },
  {
   "cell_type": "code",
   "execution_count": null,
   "id": "fc52bb94-5e13-4943-9225-a6d7fd053579",
   "metadata": {
    "id": "fc52bb94-5e13-4943-9225-a6d7fd053579"
   },
   "outputs": [],
   "source": [
    "classify( peft_model, tokenizer, \"Kederis proclaims innocence Olympic champion Kostas Kederis today left hospital ahead of his date with IOC inquisitors claiming his ...\")\n",
    "classify( peft_model, tokenizer, \"Wall St. Bears Claw Back Into the Black (Reuters) Reuters - Short-sellers, Wall Street's dwindling\\band of ultra-cynics, are seeing green again.\")"
   ]
  },
  {
   "cell_type": "markdown",
   "id": "68a3e276-bf8c-4403-8a48-5ef19f2beccf",
   "metadata": {
    "id": "68a3e276-bf8c-4403-8a48-5ef19f2beccf"
   },
   "source": [
    "### Run Inference on eval_dataset"
   ]
  },
  {
   "cell_type": "code",
   "execution_count": 32,
   "id": "ebbc20a2-a1c0-4cb7-b842-f52e4de61ed5",
   "metadata": {
    "id": "ebbc20a2-a1c0-4cb7-b842-f52e4de61ed5",
    "tags": []
   },
   "outputs": [],
   "source": [
    "from torch.utils.data import DataLoader\n",
    "import evaluate\n",
    "from tqdm import tqdm\n",
    "\n",
    "def evaluate_model(inference_model, dataset, labelled=True, batch_size=8, data_collator=None):\n",
    "    \"\"\"\n",
    "    Evaluate a PEFT model on a dataset.\n",
    "\n",
    "    Args:\n",
    "        inference_model: The model to evaluate.\n",
    "        dataset: The dataset (Hugging Face Dataset) to run inference on.\n",
    "        labelled (bool): If True, the dataset includes labels and metrics will be computed.\n",
    "        batch_size (int): Batch size for inference.\n",
    "        data_collator: Collator for padding and batching.\n",
    "\n",
    "    Returns:\n",
    "        If labelled is True: returns (metrics, predictions)\n",
    "        If labelled is False: returns predictions only.\n",
    "    \"\"\"\n",
    "    dataloader = DataLoader(dataset, batch_size=batch_size, collate_fn=data_collator)\n",
    "    device = torch.device(\"cuda\" if torch.cuda.is_available() else \"cpu\")\n",
    "\n",
    "    inference_model.to(device)\n",
    "    inference_model.eval()\n",
    "\n",
    "    all_predictions = []\n",
    "    if labelled:\n",
    "        metric = evaluate.load('accuracy')\n",
    "\n",
    "    for batch in tqdm(dataloader, desc=\"Evaluating\"):\n",
    "        batch = {k: v.to(device) for k, v in batch.items()}\n",
    "        with torch.no_grad():\n",
    "            outputs = inference_model(**batch)\n",
    "        preds = outputs.logits.argmax(dim=-1)\n",
    "        all_predictions.append(preds.cpu())\n",
    "\n",
    "        if labelled:\n",
    "            metric.add_batch(\n",
    "                predictions=preds.cpu().numpy(),\n",
    "                references=batch[\"labels\"].cpu().numpy()\n",
    "            )\n",
    "\n",
    "    all_predictions = torch.cat(all_predictions, dim=0)\n",
    "\n",
    "    if labelled:\n",
    "        final_metric = metric.compute()\n",
    "        print(\"Evaluation Accuracy:\", final_metric[\"accuracy\"])\n",
    "        return final_metric, all_predictions\n",
    "    else:\n",
    "        return all_predictions\n"
   ]
  },
  {
   "cell_type": "code",
   "execution_count": 33,
   "id": "809635a6-a2c7-4d09-8d60-ababd1815003",
   "metadata": {
    "id": "809635a6-a2c7-4d09-8d60-ababd1815003",
    "tags": []
   },
   "outputs": [
    {
     "data": {
      "application/vnd.jupyter.widget-view+json": {
       "model_id": "13f63514085948ce8517cee7f31e6147",
       "version_major": 2,
       "version_minor": 0
      },
      "text/plain": [
       "Downloading builder script:   0%|          | 0.00/4.20k [00:00<?, ?B/s]"
      ]
     },
     "metadata": {},
     "output_type": "display_data"
    },
    {
     "name": "stderr",
     "output_type": "stream",
     "text": [
      "Evaluating: 100%|██████████| 1500/1500 [00:41<00:00, 36.39it/s]"
     ]
    },
    {
     "name": "stdout",
     "output_type": "stream",
     "text": [
      "Evaluation Accuracy: 0.89475\n",
      "Final Validation Accuracy: 0.8948\n"
     ]
    },
    {
     "name": "stderr",
     "output_type": "stream",
     "text": [
      "\n"
     ]
    }
   ],
   "source": [
    "# Run evaluation\n",
    "eval_metric, predictions = evaluate_model(peft_model, val_dataset, labelled=True, batch_size=8, data_collator=data_collator)\n",
    "\n",
    "# Show result\n",
    "print(f\"Final Validation Accuracy: {eval_metric['accuracy']:.4f}\")\n"
   ]
  },
  {
   "cell_type": "code",
   "execution_count": null,
   "id": "kMJgvV1ZnVhd",
   "metadata": {
    "id": "kMJgvV1ZnVhd"
   },
   "outputs": [],
   "source": []
  },
  {
   "cell_type": "markdown",
   "id": "75f39087-f2bb-49d3-9fe1-0d812fb30203",
   "metadata": {
    "id": "75f39087-f2bb-49d3-9fe1-0d812fb30203"
   },
   "source": [
    "### Run Inference on unlabelled dataset"
   ]
  },
  {
   "cell_type": "code",
   "execution_count": 31,
   "id": "2af62541-2c33-4f16-bb1c-cc969c715cd7",
   "metadata": {
    "id": "2af62541-2c33-4f16-bb1c-cc969c715cd7",
    "tags": []
   },
   "outputs": [
    {
     "ename": "FileNotFoundError",
     "evalue": "[Errno 2] No such file or directory: 'test_unlabelled.pkl'",
     "output_type": "error",
     "traceback": [
      "\u001b[0;31m---------------------------------------------------------------------------\u001b[0m",
      "\u001b[0;31mFileNotFoundError\u001b[0m                         Traceback (most recent call last)",
      "Cell \u001b[0;32mIn[31], line 2\u001b[0m\n\u001b[1;32m      1\u001b[0m \u001b[38;5;66;03m#Load your unlabelled data\u001b[39;00m\n\u001b[0;32m----> 2\u001b[0m unlabelled_dataset \u001b[38;5;241m=\u001b[39m \u001b[43mpd\u001b[49m\u001b[38;5;241;43m.\u001b[39;49m\u001b[43mread_pickle\u001b[49m\u001b[43m(\u001b[49m\u001b[38;5;124;43m\"\u001b[39;49m\u001b[38;5;124;43mtest_unlabelled.pkl\u001b[39;49m\u001b[38;5;124;43m\"\u001b[39;49m\u001b[43m)\u001b[49m\n\u001b[1;32m      3\u001b[0m test_dataset \u001b[38;5;241m=\u001b[39m unlabelled_dataset\u001b[38;5;241m.\u001b[39mmap(preprocess, batched\u001b[38;5;241m=\u001b[39m\u001b[38;5;28;01mTrue\u001b[39;00m, remove_columns\u001b[38;5;241m=\u001b[39m[\u001b[38;5;124m\"\u001b[39m\u001b[38;5;124mtext\u001b[39m\u001b[38;5;124m\"\u001b[39m])\n\u001b[1;32m      4\u001b[0m unlabelled_dataset\n",
      "File \u001b[0;32m~/.local/lib/python3.10/site-packages/pandas/io/pickle.py:190\u001b[0m, in \u001b[0;36mread_pickle\u001b[0;34m(filepath_or_buffer, compression, storage_options)\u001b[0m\n\u001b[1;32m    124\u001b[0m \u001b[38;5;250m\u001b[39m\u001b[38;5;124;03m\"\"\"\u001b[39;00m\n\u001b[1;32m    125\u001b[0m \u001b[38;5;124;03mLoad pickled pandas object (or any object) from file.\u001b[39;00m\n\u001b[1;32m    126\u001b[0m \n\u001b[0;32m   (...)\u001b[0m\n\u001b[1;32m    187\u001b[0m \u001b[38;5;124;03m4    4    9\u001b[39;00m\n\u001b[1;32m    188\u001b[0m \u001b[38;5;124;03m\"\"\"\u001b[39;00m\n\u001b[1;32m    189\u001b[0m excs_to_catch \u001b[38;5;241m=\u001b[39m (\u001b[38;5;167;01mAttributeError\u001b[39;00m, \u001b[38;5;167;01mImportError\u001b[39;00m, \u001b[38;5;167;01mModuleNotFoundError\u001b[39;00m, \u001b[38;5;167;01mTypeError\u001b[39;00m)\n\u001b[0;32m--> 190\u001b[0m \u001b[38;5;28;01mwith\u001b[39;00m \u001b[43mget_handle\u001b[49m\u001b[43m(\u001b[49m\n\u001b[1;32m    191\u001b[0m \u001b[43m    \u001b[49m\u001b[43mfilepath_or_buffer\u001b[49m\u001b[43m,\u001b[49m\n\u001b[1;32m    192\u001b[0m \u001b[43m    \u001b[49m\u001b[38;5;124;43m\"\u001b[39;49m\u001b[38;5;124;43mrb\u001b[39;49m\u001b[38;5;124;43m\"\u001b[39;49m\u001b[43m,\u001b[49m\n\u001b[1;32m    193\u001b[0m \u001b[43m    \u001b[49m\u001b[43mcompression\u001b[49m\u001b[38;5;241;43m=\u001b[39;49m\u001b[43mcompression\u001b[49m\u001b[43m,\u001b[49m\n\u001b[1;32m    194\u001b[0m \u001b[43m    \u001b[49m\u001b[43mis_text\u001b[49m\u001b[38;5;241;43m=\u001b[39;49m\u001b[38;5;28;43;01mFalse\u001b[39;49;00m\u001b[43m,\u001b[49m\n\u001b[1;32m    195\u001b[0m \u001b[43m    \u001b[49m\u001b[43mstorage_options\u001b[49m\u001b[38;5;241;43m=\u001b[39;49m\u001b[43mstorage_options\u001b[49m\u001b[43m,\u001b[49m\n\u001b[1;32m    196\u001b[0m \u001b[43m\u001b[49m\u001b[43m)\u001b[49m \u001b[38;5;28;01mas\u001b[39;00m handles:\n\u001b[1;32m    197\u001b[0m \n\u001b[1;32m    198\u001b[0m     \u001b[38;5;66;03m# 1) try standard library Pickle\u001b[39;00m\n\u001b[1;32m    199\u001b[0m     \u001b[38;5;66;03m# 2) try pickle_compat (older pandas version) to handle subclass changes\u001b[39;00m\n\u001b[1;32m    200\u001b[0m     \u001b[38;5;66;03m# 3) try pickle_compat with latin-1 encoding upon a UnicodeDecodeError\u001b[39;00m\n\u001b[1;32m    202\u001b[0m     \u001b[38;5;28;01mtry\u001b[39;00m:\n\u001b[1;32m    203\u001b[0m         \u001b[38;5;66;03m# TypeError for Cython complaints about object.__new__ vs Tick.__new__\u001b[39;00m\n\u001b[1;32m    204\u001b[0m         \u001b[38;5;28;01mtry\u001b[39;00m:\n",
      "File \u001b[0;32m~/.local/lib/python3.10/site-packages/pandas/io/common.py:865\u001b[0m, in \u001b[0;36mget_handle\u001b[0;34m(path_or_buf, mode, encoding, compression, memory_map, is_text, errors, storage_options)\u001b[0m\n\u001b[1;32m    856\u001b[0m         handle \u001b[38;5;241m=\u001b[39m \u001b[38;5;28mopen\u001b[39m(\n\u001b[1;32m    857\u001b[0m             handle,\n\u001b[1;32m    858\u001b[0m             ioargs\u001b[38;5;241m.\u001b[39mmode,\n\u001b[0;32m   (...)\u001b[0m\n\u001b[1;32m    861\u001b[0m             newline\u001b[38;5;241m=\u001b[39m\u001b[38;5;124m\"\u001b[39m\u001b[38;5;124m\"\u001b[39m,\n\u001b[1;32m    862\u001b[0m         )\n\u001b[1;32m    863\u001b[0m     \u001b[38;5;28;01melse\u001b[39;00m:\n\u001b[1;32m    864\u001b[0m         \u001b[38;5;66;03m# Binary mode\u001b[39;00m\n\u001b[0;32m--> 865\u001b[0m         handle \u001b[38;5;241m=\u001b[39m \u001b[38;5;28;43mopen\u001b[39;49m\u001b[43m(\u001b[49m\u001b[43mhandle\u001b[49m\u001b[43m,\u001b[49m\u001b[43m \u001b[49m\u001b[43mioargs\u001b[49m\u001b[38;5;241;43m.\u001b[39;49m\u001b[43mmode\u001b[49m\u001b[43m)\u001b[49m\n\u001b[1;32m    866\u001b[0m     handles\u001b[38;5;241m.\u001b[39mappend(handle)\n\u001b[1;32m    868\u001b[0m \u001b[38;5;66;03m# Convert BytesIO or file objects passed with an encoding\u001b[39;00m\n",
      "\u001b[0;31mFileNotFoundError\u001b[0m: [Errno 2] No such file or directory: 'test_unlabelled.pkl'"
     ]
    }
   ],
   "source": [
    "#Load your unlabelled data\n",
    "unlabelled_dataset = pd.read_pickle(\"test_unlabelled.pkl\")\n",
    "test_dataset = unlabelled_dataset.map(preprocess, batched=True, remove_columns=[\"text\"])\n",
    "unlabelled_dataset"
   ]
  },
  {
   "cell_type": "code",
   "execution_count": null,
   "id": "e60991d3-38b1-4657-8854-408ce66f6b84",
   "metadata": {
    "id": "e60991d3-38b1-4657-8854-408ce66f6b84"
   },
   "outputs": [],
   "source": [
    "# Run inference and save predictions\n",
    "preds = evaluate_model(peft_model, test_dataset, False, 8, data_collator)\n",
    "df_output = pd.DataFrame({\n",
    "    'ID': range(len(preds)),\n",
    "    'Label': preds.numpy()  # or preds.tolist()\n",
    "})\n",
    "df_output.to_csv(os.path.join(output_dir,\"inference_output.csv\"), index=False)\n",
    "print(\"Inference complete. Predictions saved to inference_output.csv\")"
   ]
  }
 ],
 "metadata": {
  "accelerator": "GPU",
  "colab": {
   "gpuType": "T4",
   "provenance": []
  },
  "kernelspec": {
   "display_name": "Python 3 (ipykernel)",
   "language": "python",
   "name": "python3"
  },
  "language_info": {
   "codemirror_mode": {
    "name": "ipython",
    "version": 3
   },
   "file_extension": ".py",
   "mimetype": "text/x-python",
   "name": "python",
   "nbconvert_exporter": "python",
   "pygments_lexer": "ipython3",
   "version": "3.10.12"
  }
 },
 "nbformat": 4,
 "nbformat_minor": 5
}
